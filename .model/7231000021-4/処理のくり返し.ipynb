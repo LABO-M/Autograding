{
 "cells": [
  {
   "cell_type": "markdown",
   "metadata": {
    "id": "D_s6ht3QOrJo"
   },
   "source": [
    "### 学籍番号、氏名を入力せよ\n",
    "\n",
    "- 学籍番号：\n",
    "- 氏名:\n",
    "\n",
    "---"
   ]
  },
  {
   "cell_type": "markdown",
   "metadata": {
    "id": "VZ2skW1XNeL_"
   },
   "source": [
    "# Python入門：処理のくり返し\n",
    "\n",
    "\n",
    "\n"
   ]
  },
  {
   "cell_type": "markdown",
   "metadata": {
    "id": "jhD6qV4cC4zx"
   },
   "source": [
    "## 反復処理\n",
    "\n",
    "for文/while文も、if文と同様にプログラミングにおいて大事な考え方の一つです。for文/while文によって同様の処理を指定した分だけ繰り返すことができ、使いこなせば非常に効率的に処理を完遂することができます。\n",
    "\n",
    "### while文\n",
    "\n",
    "反復処理の中でもwhile文の基本的な書き方は、if文とほとんど同じです。\n"
   ]
  },
  {
   "cell_type": "markdown",
   "metadata": {
    "id": "MwwgveekC6Pn"
   },
   "source": [
    "![image.png](data:image/png;base64,iVBORw0KGgoAAAANSUhEUgAAAqAAAADCCAMAAAChQYCPAAAAAXNSR0IArs4c6QAAAARnQU1BAACxjwv8YQUAAABmUExURQAAAAAAAAcICA8PEBYXGB0fICUnKCwuMDM2ODs+P0JFR0lNT1FVV1hdX19kZ2dsb250d3V7fnyChoOKjouSlpKZnpmhpqGprqixtq+4vrfAxb7IzcXP1c3X3dTf5dvn7ePu9er2/QAoGRAAAAABdFJOUwBA5thmAAAACXBIWXMAABcRAAAXEQHKJvM/AAAX/0lEQVR4Xu2d2WKqShBFr0MGjzHRxAzGOOT/f/LWrt5AdwEqxgjGWg/noKViZFE90vznOI7jOI7jOI7jOI7jOI7jOI7jOI7jOI7jOI7jOM5xfDtON6CRBgYdp21opIFBx2kbGmlg0HHahkYaGHSctqGRBgYdp21opIFBx2kbGmlg0HHahkYaGHSctqGRBgYdp21opIFBx2kbGmlg0HHahkYaGHSctqGRBgYdp21opIFBx2kbGmlg0HHahkYaGLwiVrPnLTcbsOH/ljX/b8q27gOvFxppYPB62Nz2eo/cPpxZ7+aLmzFvw94TN5vxPui/cNMhNNLAYEO2C3Bo9tAXLxZ8VLBioICB3+Sp1+tNuH0w636vN+N2zL9er39EOv7+nvR6Q7xxPZlViX+V0EgDgw1ZyVHu9V75aB/64l6PjwpmDBQw8IssuacaBqMPvjDhXUJTbm9X3BBu5Pno4eGM+EYRtffkpb1CIw0MNuRyBZWct5t+VUabSoB/7XIQ5dKjBYWYn/L/C3Y58NIe0EgDgw25WEFViN2886Ux0Bo+CWMRKmwJRwuKioZWaJ6l8tDr3Vbm7SuDRhoYbMilCrqADv0P1nhL3OE7vPG1MUN5ngUxnAxbwtGC4k8PP9/XvWxWnxZXBo00MNiQ0wgagzLv1wVdQbTefV2dT7/DXUWjZy3PZ2lz0OvdcPMHgs7ljVnBrkm0cbvt70EjDQw25DIFXcEn4ba64axfoV/Vk4A20ojbsnnPzR8I+iZvzKuyX2PJ6ty+YmikgcGGNBN0FOCjas4g6FLzJxhUFKjbB40s+TDhUSLPYRN/+UPYFI4WdCFvjJKmd9sLNNLAYEOaCXoIvy/ohxTOvd7jWut8pU7NjT59W20bPKS56KYq+uaPFhQfM+a2E6CRBgYbcnmCbtFu1jy4RT7s/Utz1qeW/jW1008JZfVOlM1Fr9AOQV/HLDgqwekw4HbG9Kgu/78DjTQw2JCLE/TrFh/fDy30OVolw7i1jn5OSWk1hiCalcfhlXUMH7LRta12HzXjlL/nBUIjDQw25NIEXWrxfs+uzO/P0JrPHrKnJxsqKgG5s1rrWF9aT/6baEpuxjlGejsMjTQw2JBLExTdjn02c8A6eDZG8bydabK7r2weAR0dzQpyzcQ7yD9lw77VGvAF5twm1z4oTyMNDDbk0gT9uhs9pcd/Ecr86eZDNwZzPl+BNu8p6EY2byiUgEz8xm3l4NY4OkJ37PMaoZEGBjM+d/7KeTAWdDMfj4Z345kZgSlNVdo992mfoKv5v9FtfzR6fDvYgT08a7Gv//QmO74cZjLlgr7KZjRZ7+hWvDa89s764y938LSxy4ZGGhjM0MG+umG3LwT1xyoE3TyFQyzcJ79jaRxzd77dLeiHfi/ydKLjtQ77lKZNVhmtJDT/qSGyadSnfrygW3nnHbdrwY7BKYuq7kIjDQxmaBdMVFlLwIDKULdyQUPrmAziWv4JBV2ZKUjVvelNWc9D20gYTurzMpvjQcOtnI3xBNDjBUVldu9UUt2z4ILm6GyffKRkNQP5EUAXS+hdzgRd5OlTiVPC6QTNRigLfm7o+pXN8UHWHXT/XP2h/DvCj4ABoLh//QeCIhfv+zOwY+CC5uAIFJ6FyWl5vzSOaRiCoaCr1M+kcvDK7mchlM/HCvoVdjJ8mC1eZ0x6Ohv9WLYfT1mN4Xa+2bxi8rAynLws7Ad/UeCgIQqY+O/4gaDP8tZ9rSTsGLigOWil9vp8wE6/PKHicAQFg6ChjBw8Pr/OWNJX16rU+mMF3YaPzkZ+woBlfZ/lHhYvk6I6+8Aqyeo5qqjc/Ju9Rw3+zF7VUIv7uAb8A0E/5K37WknYMXBBC7QLOztAQYZslE/lDYcnCIrD058Fc0JTovpo/UjQ8MHF2PlKU1q/aVt+tXiZMZUrptq5fMxnkoD+lEG02vFnhj8MfUPJCPoPBMUUvn2tJOwYuKAFmjTZYxTEyg8BHoY2EgUVhnk1Khz8ysGQnwgariGKj2Qwttkxe0zqIoNRVX3z7SlvNAnhJ1iLtn30CIXfAH9j8s7dgq5etA5fIpRC8t59rSTsGLigBTrWzAIU7QMkFv4+qJEyf2SC3hXlHWZR1PyUPxE01DLifqDQL/mPjw5C+8eUwWj2Xhg1Hz0mXVbbxWzEOmcQFCfDi3qCN5WnIO0WtPb6J/1z8BfvGdwMr3ZBY9QzHgWpfw0gKatKaCGwqKWgw+jghKdK09jADwQNCTS1QquFxXVBh/BwczN6nL0bH/CVy194+fIwGvFpqZvKvrE//KU4Q9PUu1vQOCMnaE8qag/HXVT/R6GRBgZz1Ihb3USTYIy6PAtYFHBspgcb+3Fi0xpq9ZULPxDU9CMo4aUn6K3Hybg7E7+PsWvsDhrKyZqeKvuKeBbpsxnKgRtuz2bhl0Ba31cJvSpopIHBAi3itG4Er17Vu9BiQIRaBEFTb/SpUwsaSvg0bYWeyRNcI4EctnuefwC7g4bb2bNpm+0WtKByT6gXH/Lma4FGGhgs0MaOGgERVkXexBnPNhIFTZXTp04tqDZuTFsCR3vfxx1EU0HL/EhQnHwn+Cv+DDTSwGCBmqJNBKnr3YR2gjaaUCBmJdy5BGVVgh3+JHRa1o3HNqBlQVF9KS5vcmikgcECrfXBSFRBxTd4qb8t2vdZk+JcghbN7xKVzbFmNBW0vJZUabrdYlHpa+WeUN1v1tb729BIA4MFaBVppsTUEJEKLmoZixIpG8o8l6DhnZU0ETQs39GIOLXhsXgHyw4grZkHqk8F5N+KDtlrhUYaGCzQVhGa8SjbkQ7wM6J/BtkiazpfmKBhEKEZUXMID+WX0Jle+6n6CaoFxQceO2b7B6GRBgYjdMxPUqYcVe0FgTpS4YO4WRvpzILesnsmYU8fd8IRGTTuT8JjEfSrfJ0mPvee2+Rf1eTSakHx1+U/6evg2uujNNLAYISOfyxVSO1H5gASiv78qJ23DvpLvYVfKBt6/f0XXuBllVXLnzWSQh9FdqLJR115cU8jDQxG6Fj3m1ZBtcrJujw8zYvVcwka9hO6ZU9NPpf1Yd/H40W/Iij+aP5iyAdNCoU/CI00MBihg51T9TTUw3Agl/pjZm2kswnK+VQ7L8k4Er04PlCzVlMOXvMrgqJUGoTTAzNSfuPPvCBopIHBCB3sHOdV0NB8n2tDIx9ePJugYSSpqmH8Q7ScEIY4Bfq7vxte9yuC6vzSMC0FaeGQT/rD0EgDgxH6q91iumI0qWmCgc6i0+5sgoax+PtTl/HLfB7HaAnJdl7W+XuC6mkSZgOgl/kE0wsuGRppYDBGO2UwN5d1Ivh1g7xaTKw4m6Bhbt0peuUjtmH9mlv8N/oOq4kNdnw9xH9HUC2ttG2EokKfikEU7P7p/go00sBgjC5UIJZmQ+CaUnEJTdFndzZBWRT3T9nADWs29KZbahMWXuz9q01giP6OoDojT/tG5PfOe5xysGPggiaEYjX6RfEronc0byOdUVBUNYTbkqHHlvrLUK0dfkTahPlRtfcyQPC0gq4X89AiQkBTqCSBYl3cDASBC5qgg51CXq5mDYriUJxP0Px0Sea+f73cVyakvVDP3gQdFIU2YfXF3k1xCsYgdCJBt4u32ThciKedzFuc+JJC0eEbjw0E9HWCC5rApFV0y6FLVIgmNpxR0HyEcTCdLT5xC7HZFGX0MYIueI0m17WL8tom7L9Y8S4GgZ8LejObZNeTKGHPevIva67xRAy4oCmh85EddIIOzyeTz88pKJs0lsaCbuba+pPSndcExoLKWch++3G5uounmwu6Xixw0dzDKJsgmHIbTgVNoSO9Sr5cw9AXCi5oSrjYKypx2KrgI+Gcgkqdg+4kNBT0I7SERM9iVnwi6Pc6S9UjW9DjycaCVp9W4GY0fSnWA9PiaQpNywNJCAEXNCXUOaMTOtgTHbfzCvq9fQl1xILbxyaXfGxUAH3fa9S4SgWNekeTVx0paFXWHD3M3kt1CNaKk/lThAEX1PCp04WiHz48EbVSNvpEWhjqU5WtjHDx2O6eond9DR9UUFwQfDuavDbr0l5lspjcaAX9xt2LA8noJ55oLGg+Oe9+NBrLn/Zet4jimuVDuFIxQX8TYfdP91egkQYGL4TlUYcqdATcxKecUhb0eztnro51wePGgn4vFwcumowxEeHqZ4bSSAODf5rloDd4rGieVwgqvGlbKr4WA4+bC3o4oWZxHWlyBzTSwODfpsahakGlOjEZJp32UkOoWQtKmpN7F/nczwat0r3LLf95aKSBwasEjbfKVp1BGo1VHgtv/YM+YB/b53/PP/f80qGRBgavEvRBVo8dGZa1r9r+vIB3CI00MHilXMntCS4DGmlg0HHahkYaGHSctqGRBgYdp21opIFBx2kbGmlg0HHahkYaGHSctqGRBgYdp21opIFBx2kbGmlg0HHahkYaGHSctqGRBgYdp21opIFBx2kbGmlg0HHahkYaGHSctqGRBgYdp21opIFBx2kbGmlgsNt8zLLFQNpk9TKvvjJpL/auyk4VNNLAYKfZ9Hu9gy7g/V3uD7uCqQyWuTjtCqd/EhppYLDT4OK2kyyu8cHVmSq427tSCVaoqlhc4QD231XZEWikgcFOw3veldmG9UjAmy193yfhvkVkJvFsXclq9l0+hzx4w+1m1F3e7CTQSAODnQYHeBruhLlYRAswfMXrHw3TlRl0WegYKWO5aEgN5QWOU1zQX4ZGGhjsNDjABf1HJsttWmAP03ZItspSxlzXPb17zTKtfGiu2+YVH7XnCuKDBP2aMmPH4DwacDtm0oWmX3egkQYGO022yHIGs5EumsdjjXyZ1gJWryj5B70eVu7SOyfCsEKJWNBQ+p9A0Debt/dQXlT5iqGRBgY7TVhCPiJUF5FYM6lQolc1lKVUz72FYcX6Hamg2+izajhA0E3VQqY7+YU7QF0sNNLAYKcRQXMztliL+Fk3RbHiLp6jwwTlppAKigXCYkHn5RvHYomvPrcj4lXJ0Jq7nWrGPgAsDOqN+wIaaWCw0zzaWzQFFUWxoulxWkHDGtMHUlQt5EwqFk7fj/xd3nYqoJEGBjuNyFes/QbNghK/Jyiy9OH080EEEbTJPbWTP8ChkQYGO400yEOhDope+98TVNr0gwkL4hyUyDfcLpD9FhVJETQaa1rPKoa/PqNlQF3QBBppYLDLYAinKEbPIai8q7zeMdJqxVCnnD35jhNBP6XFVFo1dyrfOX/SBU2gkQYGuwzuVF0MRELQ8OgYQZn3BEmIA24CK2h55BO37ajYRbzjWNCNfEjUq0W0cjtmZnVBE2ikgcEug6HsNIOGG7YcI+guEkHL94TBfUiKr5FTJyhqBOV1mb/C+EG4ubILmkAjDQx2GaQuvW+gIke1HUFlDxXPJjuWb8TW3FZvLpMn0M+8bc9b2vXnsi1fqKLOcLXQSAODXQbHuujwhKChiDxGUHZeClh4nptAYnsERSd8xazOeMerm0EYQ9BV5/OW3afs6ylX9INJVJ6YP3VgFmFnoJEGBrsMzChuVYBxz6DSMYJyU5B372oklQTF7V6r7nRQteOFOpg9/aHjn6O8uGcSTW7F5FyuoHrT/+ImLbgNXrD1vIKiJlw1NFne8UbvgtjPyvfgpxQCRYU03Bd04HNFEmikgcEOE6aK5GZIgc+JcecVNKS9cuve7niDCSrR7L/MT0mZxQ44UbDUC3XV0EgDgx0G/UHRvJ/7/M7/5xUU2snzA1swmx0/q569aVYlkd1INn35kJf1bor3bvXetsXXdy5XULFiJmLwETrGOZwoz55PUPRu/VtKNrwxXUfpjsN9eO/y1Ki3ORyifoIM3C8GxLRg8Nl2MTTSwGB3gVbLu7wSinlxHOWJex0rBP1A/ztyL/7HFSE/EhT3hn1Xq0zaS3eMovs2v3hkq/UCFu3ydeXNRT/A1+TBm0kxNNLAYHcRkQZITKyEojGNPkRBntwhqJnw8S8IWtT6UkHxsbsExYWlQym20X2U7ifd8dtolGfs76XWNO+zlKvZdFCEnRQaaWCwu4gSY0y0ZHGIKZdsqEh6KkbMS4KGwjZH6q0QFL2PgUTQLRLkLkGROrGzNTqQklg5dWfMtXn0kO/x+12f+Hf1d42tgUYaGOwsSF0vmC/CiZbwjiWjqFHU6UqerJ/Q/y7vvsX/E6ROtF/yzvmkox7mRHeFLQsKL1VgXBuSXP1UJ+hax5LiWqfk6XBf44fiVHAKaKSBwc4iiQ5CSiU05E05xFl7SXwrLhXOPFnNkr4bUa0oU01SNUSjjiVB8S2YwlGtjKuh1YJuQ2fTrc2WrHhMXNEyNNLAYGeREh6rJUwpEK49oimoNhatjMyTSbq4QiJo6NupYVwk0JKgG0mg2bRkbMdKVgo6x4vi8c0cDHuCqvvXXzk00sBgV0EJj+O/YBmP3h42l6Q22g9bIPNE/tfHJBFU9HhGk15B9yo3hWebdxNBkXrz6Sq6/EORGSsEfQ/XQw/LU/aE7Qz1CeH22JWe/io00sBgV0HZiuJwKyUmjjcaK5RDkip77MFhgkakrfgUIygGW4eFTSjkiz1bQb+m8m5hgLVMKlmjRQb6D5UKXys00sBgV5E8F1yQ0hllvOiQaSVlZTR34xcF3aJUZtcW0EI+f5wIun5hCV6vJ1hpAwpE/aJXD400MNhV5PAHwd4k4WxCT5E+1ipolIB+UVBkzGK6n4CurkFmVixo6FiSb/q0z7vlhC+NmmbXDo00MNhVvsZMVSjjX7QRTOEw/Bm1QX5PUOhYXLipoLcoMysSlOtB3R9UudzMNdm6oDk00sBg95GK2y2K9T6Tk2zGB/fXBF2iv8hMjNMZgKwKR4JC3Jtp6vIuPiejsTeUcmikgcHug0vnMFjIemc0oqT8lqAr2Y4uOCEo9dnbFQu6DmvvvYT++F3cTd1MC400MHgB3En2lEPLxCWPknqheKLjnuKGPiY/FVRX0BuVujPX+CahZyoWNKCXe+zFzopyaKSBwQtAjBI4iIMEmqw4iw598SidsZQKut2d2O4KDXNBt5DNrOuooGc0nCAlQcPU+/1UXD5y3dBIA4MXwFZHZ2ilTaA6ma0fFvjiM0osaLh2pJ5C+ExQ9XNghyuBplB9Q0lQFP/9yTvX263i4xH12vT7OxcvqGYtlsroY0oS6PcXu23M6kg/yqAhf1b5Gb6MZvOSoPLE3kXr0FVfW8G4VmikgcELYAEFb0JxKwnM9s+86ewMO8AYC5qyvw6qft7UTOtACtVroyoFjbr1K8FwqQtqoJEGBruPdvf0evchzy3ZiIlYvWFQ3TyfCbpdLEyjZL+g6HSt81OnH9cLWnNS5GBKgQtqoJEGBjuPdveAZtfxqKCrOXKh6SvaL6iU4tGFmCVeZ1r4u6CngkYaGOw6G3T3DN5haXnduR3IG/QeBoJpNe8XdDN7KfUvlXFBTwWNNDDYcbY46v2PkEcnh/Ygfr485E2n0rv2C3oYLuipoJEGBrvNCvlT/GRN1NwSqZpPFOsZdy+lsvpUgg5d0BNBIw0MdpqFto/CQQ9tpf0DhVj1ltxWrXR8KkHR4ZWO1LugR0IjDQx2mbD2TXbM1yEzjvM7clWT3fbwflrdj3kiQTeo4KZ7gKDlJZxSMBDmghpopIHB7hIuJOKyhsorezzHs9lbfGfEFPH49um93uKjBJVz5W48e8+M/JxidCu6HBRAULO4QwmMNrmgBhppYLC74HibpQq5fmEN/Uq3VvYehZi5x01S5NpaQSVQxvTK65cb6ZVOdeiEeh/qNNBIA4OdBbW1XmnW5Hqu3lZTmhwH9s+Ak9OAr60XVBdWNNiOWRTfh5A2rZwLFXQ97A2TxQ8y1vPHsOCCpbqNH7fp68ivhJPsWlN1WM7G6FEoGJbbQzvze055Dt+1QyMNDHaX7SF9SvtZvbB4rafoiprpOky1LHGbeixcMp29V73urXwfRcu/Q8YArgwaaWDQSTj8sg3nZNBIA4OO0zY00sCg47QNjTQw6DhtQyMNDDpO29BIA4OO0zY00sCg47QNjTQw6DhtQyMNDDpO29BIA4OO0zY00sCg47QNjTQw6DhtQyMNDDpO29BIA4OO0zY00sCg47QNjTQw6DhtQyMNDDpO29BIA4OO0zY00nEcx3Ecx3Ecx3Ecx3Ecx3Ecx3Ecx3Ecx3Ecx3Ecx3Ecx3Ecx3Ecx3Ecx3Gca+W///4HCcJOcdFe2jMAAAAASUVORK5CYII=)"
   ]
  },
  {
   "cell_type": "markdown",
   "metadata": {
    "id": "SmRa5caria33"
   },
   "source": [
    "\n",
    "while 条件文:(コロン)の後にインデントに注目して処理内容を記述します。if文と記述方法は似ていますがwhile文では、条件文がTrueである限り処理が繰り返し実行されます。\n",
    "\n",
    "以下のサンプルコードを例に考えてみましょう。まず、実行してみてください。"
   ]
  },
  {
   "cell_type": "code",
   "execution_count": 1,
   "metadata": {
    "id": "nuYu7gP6vf_E"
   },
   "outputs": [
    {
     "name": "stdout",
     "output_type": "stream",
     "text": [
      "1\n",
      "2\n",
      "3\n",
      "4\n",
      "4\n"
     ]
    }
   ],
   "source": [
    "#変数定義\n",
    "step = 1\n",
    "print(step)\n",
    "#条件文\n",
    "while step <4 :\n",
    "    #処理内容\n",
    "    step += 1\n",
    "    print(step)\n",
    "print(step)    "
   ]
  },
  {
   "cell_type": "markdown",
   "metadata": {
    "id": "Y1BskK4nll-n"
   },
   "source": [
    "- まずここでは変数stepが用意されています。\n",
    "\n",
    "- while文内の条件文ではstepが4より小さいかどうかを判断し、条件文がTrue（stepが4より小さい）ならば処理内容が実行されます。\n",
    "\n",
    "- 処理内容ではstepが1ずつ増えます。\n",
    "\n",
    "- 増えたstepを再び条件文で確認し、Trueならば繰り返し処理が行われます。\n",
    "\n",
    "- もしもFalseならばwhile文は終了となりprint(step)のコマンドに移ります。\n",
    "\n",
    "#### サンプルコードについて\n",
    "\n",
    "- 最初はstep = 1でスタートします。\n",
    "\n",
    "- ループ1 :\n",
    "\n",
    "    【条件文】True（step = 1は4より小さい）\n",
    "\n",
    "    【処理内容】step = 1 + 1\n",
    "\n",
    "- ループ2 :\n",
    "\n",
    "    【条件文】True（step = 2は4より小さい）\n",
    "\n",
    "    【処理内容】step = 2 + 1\n",
    "\n",
    "- ループ3 :\n",
    "\n",
    "    【条件文】True（step = 3は4より小さい）\n",
    "\n",
    "    【処理内容】step = 3 + 1\n",
    "\n",
    "- ループ4 :\n",
    "\n",
    "    【条件文】False（step = 4は4と等しい）\n",
    "\n",
    "    【処理内容】行われません\n",
    "\n",
    "- 最終的に、step = 4となり出力されます。\n",
    "\n",
    "条件文に注意しながらwhile文を記述しanswer_list=[0,1,2,3]を出力するように次のプログラムを完成させましょう。\n",
    "\n",
    "### 問題1\n",
    "\n",
    "    (1)while文に、変数stepが4以上となった時にFalseとなるような条件文を付けましょう。\n",
    "    (2)while文の中の処理として、stepの値をappend関数を用いてリストの変数answer_listに追加しましょう。\n",
    "    (3)answer_listを出力し、リストの値が[0,1,2,3]となっているか確認しましょう。"
   ]
  },
  {
   "cell_type": "code",
   "execution_count": 3,
   "metadata": {
    "id": "QOHEc97xmER0"
   },
   "outputs": [
    {
     "name": "stdout",
     "output_type": "stream",
     "text": [
      "[0, 1, 2, 3]\n"
     ]
    }
   ],
   "source": [
    "#問題1\n",
    "#変数の定義\n",
    "step = 1\n",
    "answer_list = [0]\n",
    "# 条件文\n",
    "# stepが4以上となるまで繰り返しが行われる\n",
    "while step < 4:\n",
    "\n",
    "    # 処理内容\n",
    "    # answer_listにstepを加える\n",
    "    answer_list.append(step)\n",
    "    # stepを1つ増やす\n",
    "    step += 1\n",
    "#answer_listを出力\n",
    "print(answer_list)"
   ]
  },
  {
   "cell_type": "markdown",
   "metadata": {
    "id": "NyPLS1VTjynz"
   },
   "source": [
    "### ヒント\n",
    "\n",
    "- stepは1から始まりstepの値が4より小さいうちはappend関数によってanswer_listの要素として加えられていきます。\n",
    "\n",
    "- 追加はリスト.append (要素名)を使い今回ではリストはanswer_list要素名ではstepが対応します。\n",
    "\n",
    "- append関数の後にstep+1をした値が新たなstepに上書き保存されます。\n",
    "\n",
    "- 以上の処理が繰り返され、条件文がFalseとなった時while文の処理は止まり、初めて完成したanswer_listが出力されます。"
   ]
  },
  {
   "cell_type": "markdown",
   "metadata": {
    "id": "rWDmHPFQjyq7"
   },
   "source": [
    "#### 注意\n",
    "\n",
    "while文は条件文がTrueの限りずっとループしてしまうので、必ずFalseになるよう注意して使う必要があります。\n",
    "後で説明するif文とbreakを組み合わせて、ループを中断する設定を組み込む方法もあります。"
   ]
  },
  {
   "cell_type": "markdown",
   "metadata": {
    "id": "XqTt3FByDJXY"
   },
   "source": [
    "### for文"
   ]
  },
  {
   "cell_type": "markdown",
   "metadata": {
    "id": "bPnImyfcDPD4"
   },
   "source": [
    "![image.png](data:image/png;base64,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)"
   ]
  },
  {
   "cell_type": "markdown",
   "metadata": {
    "id": "X27nhatDjyuH"
   },
   "source": [
    "\n",
    "\n",
    "for文の基本的な書き方は、\n",
    "\n",
    "    for a in [0,1,2]:\n",
    "            処理\n",
    "\n",
    "というように、for 要素 in リスト:(コロン)の後に改行し、インデントの後に処理内容を記述します。\n",
    "\n",
    "こうすることで、まずaに0が代入されて処理が実行され、次にaに1が代入されて処理が実行され、最後にaに2が代入されて処理が実行されます。\n",
    "\n",
    "\n",
    "### 問題2\n",
    "\n",
    "    for文を使って、数学の点数のリストが代入された変数scores_math\n",
    "    からそれぞれの点数を出力しましょう。\n",
    "    またそれぞれの点数を変数totalに足し、合計を計算しましょう。"
   ]
  },
  {
   "cell_type": "code",
   "execution_count": 4,
   "metadata": {
    "id": "f57H0a9KnBAc"
   },
   "outputs": [
    {
     "name": "stdout",
     "output_type": "stream",
     "text": [
      "299\n"
     ]
    }
   ],
   "source": [
    "#問題2\n",
    "# 定義\n",
    "scores_math = [43,55,78,39,84]\n",
    "total = 0\n",
    "\n",
    "# for文を使ってみよう\n",
    "for score in scores_math:\n",
    "    total += score\n",
    "\n",
    "print(total)"
   ]
  },
  {
   "cell_type": "markdown",
   "metadata": {
    "id": "TKvWK9h1jywi"
   },
   "source": [
    "##### ヒント\n",
    "\n",
    "- 今回のリストはscores_mathですので、in 後のリストにはscores_mathが入ります。\n",
    "\n",
    "- また要素を取り出す際は任意の変数を使えます。"
   ]
  },
  {
   "cell_type": "markdown",
   "metadata": {
    "id": "d2vkqae_jyzN"
   },
   "source": [
    "#### 補足　\n",
    "\n",
    "今回はリストの要素にアクセスしfor文を用いましたが、文字列や辞書に対してもfor文は使用されます。\n",
    "for文内の処理は単純な出力と計算ですが、if文などと組み合わせる事で、条件を満たす要素だけに処理を行うこともできます。"
   ]
  },
  {
   "cell_type": "markdown",
   "metadata": {
    "id": "WPw3aPLEjy2p"
   },
   "source": [
    "### indexの取得\n",
    "\n",
    "for文では対象のリストにenumerate関数を用いる事で、リストの要素だけでなくその要素のインデックスを同時に取得することができます。\n",
    "\n",
    "    for インデックス, 要素 in enumerate(リスト):\n",
    "        処理\n",
    "\n",
    "次の例では先ほどの英語の点数のリストを例に、enumerate関数によってインデックスと要素の両方に対して処理が行われます。\n",
    "\n",
    "    # リストの定義\n",
    "    score_english = [62,48,33,89,91]\n",
    "\n",
    "    # 英語の点数\n",
    "    for index, score in enumerate(score_english):\n",
    "        result = 'student ID No.' + str(index)+' : '+str(score)\n",
    "        print(result)\n",
    "\n",
    "変数resultは、出力が見やすいようにインデックスと得点を１つの文字列としてまとめたものになっています。ここで忘れてはいけないのがindex、scoreはどちらも数値型であるためstr関数による型の統一することです。\n",
    "\n",
    "\n",
    "### 問題3\n",
    "\n",
    "    for文内の空欄を埋める事で、数学の点数からなるリストの変数\n",
    "    scores_mathに対してenumerate関数を使い、\n",
    "    インデックスと要素を組み合わせた文章を\n",
    "    「student ID No.[インデックス] : [要素]」\n",
    "    というフォーマットで出力しましょう。\n",
    "\n"
   ]
  },
  {
   "cell_type": "code",
   "execution_count": 6,
   "metadata": {
    "id": "w8sL-5v1nr6d"
   },
   "outputs": [
    {
     "name": "stdout",
     "output_type": "stream",
     "text": [
      "student ID No.0 : 43\n",
      "student ID No.1 : 55\n",
      "student ID No.2 : 78\n",
      "student ID No.3 : 39\n",
      "student ID No.4 : 84\n"
     ]
    }
   ],
   "source": [
    "#問題3\n",
    "# リストの定義\n",
    "scores_math = [43,55,78,39,84]\n",
    "# for文を使ってみよう\n",
    "for i, score in enumerate(scores_math):\n",
    "    result  = 'student ID No.'+str(i)+' : '+str(score)\n",
    "    print(result)"
   ]
  },
  {
   "cell_type": "markdown",
   "metadata": {
    "id": "35IfJukQnQzs"
   },
   "source": [
    "### ヒント\n",
    "\n",
    "- for インデックス, 要素 in enumerate(リスト):に対してインデックスindex、要素score、リストscores_mathを対応させましょう。\n",
    "\n",
    "- 変数resultに代入する際に数値型であるindexとscoreを文字列型に変換することを忘れないようにしましょう。\n",
    "\n",
    "- 文字列内の空白やスペルミスにも注意してください。"
   ]
  },
  {
   "cell_type": "markdown",
   "metadata": {
    "id": "fMoMBqoQDqVy"
   },
   "source": [
    "### range関数\n",
    "\n",
    "for文内の処理を指定した回数分だけ繰り返したい時にはrange関数を用います。"
   ]
  },
  {
   "cell_type": "markdown",
   "metadata": {
    "id": "lByaJfr7nQ3C"
   },
   "source": [
    "\n",
    "    for i in range(数値):\n",
    "        処理\n",
    "\n",
    "\n",
    "数値を3とすると、iは0、１、２と値を取りfor文内で順に処理されます。\n",
    "以下の例では、英語の点数のリストを指定した回数分だけfor文の処理が行われています。ここではrange(2)とあるので、左端の２人分が表示されます。\n",
    "\n",
    "    # リストの定義\n",
    "    scores_eng = [62,48,33,89,91]\n",
    "\n",
    "    # 英語の点数;最初の2人の点数だけ表示\n",
    "    for i in range(2):\n",
    "        result = 'student ID No.'+str(i)+' : '+str(scores_eng[i])\n",
    "        print(result)\n",
    "\n",
    "### 問題4\n",
    "\n",
    "    数学の点数からなるリストの変数scores_mathにおいて、左端から４人までの点数を出力しましょう。\n",
    "    またstudent ID No.1から始まるように、indexの計算も工夫しましょう。        "
   ]
  },
  {
   "cell_type": "code",
   "execution_count": 8,
   "metadata": {
    "id": "-Bveiaado6Ns"
   },
   "outputs": [
    {
     "name": "stdout",
     "output_type": "stream",
     "text": [
      "student ID No.1 : 43\n",
      "student ID No.2 : 55\n",
      "student ID No.3 : 78\n",
      "student ID No.4 : 39\n",
      "student ID No.5 : 84\n"
     ]
    }
   ],
   "source": [
    "#問題4\n",
    "# リストの定義\n",
    "scores_math = [43,55,78,39,84]\n",
    "# 数学の点数;最初の4人の点数だけ表示\n",
    "# for文を使ってみよう\n",
    "for i, score in enumerate(scores_math):\n",
    "    result = 'student ID No.' + str(i+1) + ' : ' + str(scores_math[i])\n",
    "    print(result)"
   ]
  },
  {
   "cell_type": "markdown",
   "metadata": {
    "id": "pZtRfwttnQ6b"
   },
   "source": [
    "##### ヒント\n",
    "\n",
    "- for i in range(4)によって、scores_math[i]はscores_mathのi番目の要素が左から順に4回取得できます。\n",
    "\n",
    "- student ID No.1から始めるためには、'student ID No.'+str(i+1)+' : '+str(scores_math[i])として計算させる必要があります。"
   ]
  },
  {
   "cell_type": "markdown",
   "metadata": {
    "id": "sS0IiRq4jy5A"
   },
   "source": [
    "### for文における文字列型、辞書型\n",
    "\n",
    "これまでリストを中心にfor文の処理を行ってきましたが、実は文字列や辞書型に対してもfor文は扱うことができます。\n",
    "文字列はそれぞれの文字１つに対してfor文の処理が行われます。\n",
    "\n",
    "    for i in 文字列:\n",
    "        処理\n",
    "\n",
    "処理部分をprint(i)とすれば文字列の文字が１つずつ出力されます。\n",
    "\n",
    "辞書型の場合では、ラベルであるkeyとそれに対応する値のvalueとで、for文の扱い方が異なります。\n",
    "\n",
    "    [keyに対するfor文]\n",
    "      for i in 辞書.keys():\n",
    "        処理\n",
    "\n",
    "    [valueに対するfor文]\n",
    "      for i in 辞書.values():\n",
    "        処理\n",
    "\n",
    "辞書の末尾にkeyであればkeys関数を、valueであればvalues関数を適用する必要があります。この関数によって辞書のkeyもしくはvalueの値がiに代入されます。\n",
    "\n",
    "またkeyとvalueの両方を同時にfor文にかける場合には辞書.items()を使います。以下の場合、辞書のkeyがiに、valueがjに代入されます。\n",
    "\n",
    "    for i, j in 辞書.items():\n",
    "        処理\n",
    "\n",
    "\n",
    "### 課題5\n",
    "\n",
    "    (1)変数stringには文字列'Python'が代入されています。\n",
    "    この文字列をfor文を使って１文字ずつ出力させるように、空欄を埋めましょう。 \n",
    "    (2)変数名がcountries_areaの辞書型に対してkeyとvalueの両方を呼び出し、\n",
    "    「key is value*1000 square kilometers」というフォーマットで出力させましょう。\n",
    "\n"
   ]
  },
  {
   "cell_type": "code",
   "execution_count": 9,
   "metadata": {
    "id": "OXx2zderpxds"
   },
   "outputs": [
    {
     "name": "stdout",
     "output_type": "stream",
     "text": [
      "P\n",
      "y\n",
      "t\n",
      "h\n",
      "o\n",
      "n\n",
      "Russia is 17098000 square kilometers\n",
      "Canada is 9984000 square kilometers\n",
      "America is 9629000 square kilometers\n",
      "China is 9596000 square kilometers\n",
      "Brazil is 8514000 square kilometers\n"
     ]
    }
   ],
   "source": [
    "#問題5\n",
    "# 辞書、文字列の定義\n",
    "string = 'Python'\n",
    "countries_area = {'Russia' : 17098, 'Canada' : 9984, 'America': 9629, 'China' : 9596, 'Brazil' : 8514}\n",
    "# 文字列にfor文を使う\n",
    "for i in string:\n",
    "    print(i)\n",
    "# 辞書にfor文を使う\n",
    "for key, value in countries_area.items():\n",
    "    result = str(key) +' is '+ str(value*1000) + ' square kilometers'\n",
    "    print(result)"
   ]
  },
  {
   "cell_type": "markdown",
   "metadata": {
    "id": "H11Wbv_Sjy7-"
   },
   "source": [
    "### ヒント\n",
    "\n",
    "- for文によってstringの一文字ずつをiとして取得しましょう。for文内でiをprintすれば繰り返し出力することができます。\n",
    "\n",
    "- for文によってcountries_area.items()からkeyとvalueを取得します。そして、key is value*1000 square kilometersとなる様に出力してください。"
   ]
  },
  {
   "cell_type": "markdown",
   "metadata": {
    "id": "pz4ZlI7MqXIE"
   },
   "source": [
    "## 内包表記\n",
    "\n",
    "Pythonではリストや辞書を簡単に作成する方法として内包表記があります。内包表記により、普通に記述すると複数行書かなくてはいけないプログラムを1行で書くことができます。"
   ]
  },
  {
   "cell_type": "markdown",
   "metadata": {
    "id": "pAqXI-j5qXNp"
   },
   "source": [
    "### for文/if文と内包表記\n",
    "\n",
    "内包表記とは、if文やfor文の処理を一行の中で表記する方法であり、下記のように表現することができます。\n",
    "\n",
    "for文で[0,1,2,3,4]のリストを作成した場合、\n",
    "\n",
    "    num = [ ] #空のリストの用意\n",
    "    for i in range(5):\n",
    "        num.append(i)\n",
    "\n",
    "となります。append関数はリスト用の関数であるため、値を持っていない空のリストを予め用意しています。\n",
    "\n",
    "これらのコードは内包表記で書くと下記のようにスマートに表現することができます。\n",
    "\n",
    "    num = [i for i in range(5)]\n",
    "\n",
    "for文で使用されている変数(今回の例ではi)は計算することもでき、その場合は下記のように記述することができます。\n",
    "\n",
    "    num = [i+1 for i in range(5)]\n",
    "\n",
    "このときの変数numには[1,2,3,4,5]が代入されます。\n",
    "\n",
    "また、if文と組み合わせることもでき、その場合は下記のように記述することができます。\n",
    "\n",
    "    num = [i for i in range(5) if i%2==0]\n",
    "\n",
    "ここで、i % 2はiを2で割った余りを表します。通常の割り算はi / 2と記述します。\n",
    "上記の内包表記では変数numに[0,2,4]が代入されます。\n",
    " \n",
    "上記のようにif文とfor文を組み合わせることで、「0から4までの整数の中から偶数のみをリスト化する」という処理を1行で記述することができました。\n",
    "\n",
    "### 問題6\n",
    "\n",
    "    (1)0から4までの数字の2乗を要素とするリストの変数squareを、内包表記で表し出力しましょう。\n",
    "    (2)0から9までの数字で3で割り切れない数のリストの変数non_triを、内包表記で表し出力しましょう。\n"
   ]
  },
  {
   "cell_type": "code",
   "execution_count": 10,
   "metadata": {
    "id": "iRZE8D2dq6iC"
   },
   "outputs": [
    {
     "name": "stdout",
     "output_type": "stream",
     "text": [
      "[0, 1, 4, 9, 16]\n",
      "[1, 2, 4, 5, 7, 8]\n"
     ]
    }
   ],
   "source": [
    "#問題6\n",
    "# 0から4までの数字を2乗したリストの変数squareを、内包表記で作成しましょう\n",
    "square = [x**2 for x in range(5)]\n",
    "print(square)\n",
    "# 0から9までの数字で3で割り切れない数のリストの変数non_triを、内包表記で作成しましょう\n",
    "non_tri = [x for x in range(10) if x%3 != 0]\n",
    "print(non_tri)"
   ]
  },
  {
   "cell_type": "markdown",
   "metadata": {
    "id": "HlE7HLq3qXQj"
   },
   "source": [
    "### ヒント\n",
    "\n",
    "- 0から4までの数を2乗した数のリストはsquare = [i**2 for i in range(5)]となります。\n",
    "\n",
    "- 3で割り切れない時にリストに加えるので、[i for ~ in ~ if i%3 !=0]となります。"
   ]
  },
  {
   "cell_type": "markdown",
   "metadata": {
    "id": "MO4bgARCroJM"
   },
   "source": [
    "### リストの内包表記\n",
    "\n",
    "リストに関しても、for文やif文の代わりに内包表記を使うことができます。\n",
    "\n",
    "例えば、5人の英語テスト結果が代入されたリストの変数points_englishが存在したとき、50点未満の点数を抽出したい場合は、for文とif文を使って下記のように記述することができます。\n",
    "\n",
    "    points_english = [62,48,33,89,91]\n",
    "    lowpoints_english = []\n",
    "    for point in points_english:\n",
    "        if point < 50:\n",
    "            lowpoints_english.append(point)\n",
    "\n",
    "これを内包表記で表すと、下記のように短いコードで記述することができます。\n",
    "\n",
    "    points_english = [62,48,33,89,91]\n",
    "    lowpoints_english = [point for point in points_english if point < 50]\n",
    "\n",
    "このときの変数lowpoints_englishには[48,33]が代入されます。\n",
    "\n",
    "### 問題7\n",
    "\n",
    "    変数points_mathに代入された数学の点数のうち、50点未満だけを取り出して、\n",
    "    変数lowpoints_mathに代入しましょう。"
   ]
  },
  {
   "cell_type": "code",
   "execution_count": 11,
   "metadata": {
    "id": "CHpdvLhIsHbR"
   },
   "outputs": [
    {
     "name": "stdout",
     "output_type": "stream",
     "text": [
      "[43, 39]\n"
     ]
    }
   ],
   "source": [
    "#問題7\n",
    "# リストの定義\n",
    "points_math = [43,55,78,39,84]\n",
    "# 数学の点数、50点未満の点数だけ取り出す\n",
    "# 内包表記を使ってみよう\n",
    "lowpoints_math = [x for x in points_math if x < 50]\n",
    "print(lowpoints_math)"
   ]
  },
  {
   "cell_type": "markdown",
   "metadata": {
    "id": "mGBnNgu5roMM"
   },
   "source": [
    "##### ヒント\n",
    "\n",
    "- 内包表記を使って表すと、lowpoints_math = [point (for文) (if文)]となります。\n",
    "\n",
    "- for文のところはfor point in points_math、if文のところはif point < 50となります。"
   ]
  }
 ],
 "metadata": {
  "colab": {
   "collapsed_sections": [
    "SmRa5caria33"
   ],
   "provenance": []
  },
  "kernelspec": {
   "display_name": "Python 3 (ipykernel)",
   "language": "python",
   "name": "python3"
  },
  "language_info": {
   "codemirror_mode": {
    "name": "ipython",
    "version": 3
   },
   "file_extension": ".py",
   "mimetype": "text/x-python",
   "name": "python",
   "nbconvert_exporter": "python",
   "pygments_lexer": "ipython3",
   "version": "3.9.16"
  }
 },
 "nbformat": 4,
 "nbformat_minor": 1
}
