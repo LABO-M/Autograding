{
  "cells": [
    {
      "attachments": {},
      "cell_type": "markdown",
      "metadata": {
        "id": "D_s6ht3QOrJo"
      },
      "source": [
        "### 学籍番号、氏名を入力せよ\n",
        "\n",
        "- 学籍番号：\n",
        "- 氏名:\n",
        "\n",
        "---"
      ]
    },
    {
      "attachments": {},
      "cell_type": "markdown",
      "metadata": {
        "id": "AnOa8OHMW7Lt"
      },
      "source": [
        "# 変数とデータ型\n",
        "\n",
        "プログラミング言語では変数と呼ばれる『箱』を作り、箱の中に値を入れるようなイメージでプログラム上で操作をします。ここではPythonにおける変数について説明をします。\n",
        "\n",
        "\n"
      ]
    },
    {
      "attachments": {},
      "cell_type": "markdown",
      "metadata": {
        "id": "tUMDr86iWzjW"
      },
      "source": [
        "![image.png](data:image/png;base64,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)"
      ]
    },
    {
      "attachments": {},
      "cell_type": "markdown",
      "metadata": {
        "id": "0YxiC6lbZKbF"
      },
      "source": [
        "## 変数の作成\n",
        "\n",
        "Pythonでは変数と呼ばれる箱を用意することで、データの操作や計算を行います。\n",
        "\n",
        "また変数には自由に名前をつけることができます。\n",
        "\n",
        "\n",
        "    a ~ zのアルファベット（大文字も可能）\n",
        "    0 ~ 9の数字\n",
        "    _（アンダースコア）\n",
        "    日本語（あまり好ましくありません）\n",
        "\n",
        "但し、下記のような名称はつけることができません。\n",
        "\n",
        "    最初の文字を数字にする（e.g. 00abc）\n",
        "    予約語と呼ばれるようなプログラムが事前に用意している言葉（e.g. if, import, fromなど）\n",
        "\n",
        "変数の具体的な作成は=を用いて行うことになります。\n",
        "\n",
        "例えば、変数名をaとし、この変数aに3という数値を代入する場合は下記のようになります。\n",
        "\n",
        "    a = 3 \n",
        "\n",
        "Pythonでは=は代入であり、変数と数値を比較する記号ではないことに注意が必要です。また小文字と大文字は別々の変数名として認識される為、この点にも注意してください。\n"
      ]
    },
    {
      "attachments": {},
      "cell_type": "markdown",
      "metadata": {
        "id": "ZCnugq_3XNu-"
      },
      "source": [
        "### 問題1\n",
        "\n",
        "変数に値を代入する問題です。\n",
        "\n",
        "変数名は前述のNG名称以外は自由に名称をつけることが出来ます。\n",
        "\n",
        "ここでは変数名としてscoreを使います。そして、scoreをprint文で出力します。\n",
        "\n",
        "\n",
        "    (1)100の値を持つ変数scoreを作成しましょう。\n",
        "\n",
        "    (2)print(score)と入力することで、変数scoreに100が代入されているか出力して確かめてみましょう。\n"
      ]
    },
    {
      "cell_type": "code",
      "execution_count": 1,
      "metadata": {
        "id": "xX9FjpOFrytr"
      },
      "outputs": [
        {
          "name": "stdout",
          "output_type": "stream",
          "text": [
            "100\n"
          ]
        }
      ],
      "source": [
        "#問題1\n",
        "#(1)100の値を持つ変数scoreを作成しましょう。\n",
        "score = 100\n",
        "#(2)print(score)と入力することで、変数scoreに100が代入されているか出力して確かめてみましょう。\n",
        "print(score)"
      ]
    },
    {
      "attachments": {},
      "cell_type": "markdown",
      "metadata": {
        "id": "y2JdEVfcaAfl"
      },
      "source": [
        "##### ヒント\n",
        "\n",
        "- score = 100と入力することで変数scoreを作成することができます。\n",
        "\n",
        "- print(score)と入力することで変数scoreに代入された値を調べることができます。"
      ]
    },
    {
      "attachments": {},
      "cell_type": "markdown",
      "metadata": {
        "id": "y5Rf3LO5ajyE"
      },
      "source": [
        "#### 変数の計算\n",
        "\n",
        "それでは変数を使い、具体的に計算する方法について学んでいきましょう。\n",
        "\n"
      ]
    },
    {
      "attachments": {},
      "cell_type": "markdown",
      "metadata": {
        "id": "Gh9Me9BnZBG2"
      },
      "source": [
        "### 問題2\n",
        "\n",
        "    変数x,yにそれぞれ3.14,3を代入しましょう。\n",
        "    (1)x+yを計算して計算結果をresult1という変数に代入しましょう.\n",
        "    そして、printします。\n",
        "    (2)x∗y を計算して計算結果をresult2という変数に代入しましょう.\n",
        "    そして、printします。\n",
        "    (3)xのｙ乗を計算して計算結果をresult3という変数に代入しましょう.\n",
        "    そして、printします。\n",
        "\n"
      ]
    },
    {
      "cell_type": "code",
      "execution_count": 2,
      "metadata": {
        "id": "gFqAgLkr0REb"
      },
      "outputs": [
        {
          "name": "stdout",
          "output_type": "stream",
          "text": [
            "6.140000000000001\n",
            "9.42\n",
            "30.959144000000002\n"
          ]
        }
      ],
      "source": [
        "#問題2\n",
        "#x,yに3.14,3を代入しましょう。\n",
        "x, y = 3.14, 3\n",
        "#(1))x+yを計算して計算結果をresult1という変数に代入しましょう.そして、printします。\n",
        "result1 = x + y\n",
        "print(result1)\n",
        "#(2))x∗y を計算して計算結果をresult2という変数に代入しましょう.そして、printします。\n",
        "result2 = x * y\n",
        "print(result2)\n",
        "#(3)xのｙ乗を計算して計算結果をresult3という変数に代入しましょう.そして、printします。\n",
        "result3 = x ** y\n",
        "print(result3)"
      ]
    },
    {
      "attachments": {},
      "cell_type": "markdown",
      "metadata": {
        "id": "VmRngKFQbAgk"
      },
      "source": [
        "### ヒント\n",
        "\n",
        "(1)までは次をセルに書きます。\n",
        "\n",
        "    x =3.14\n",
        "    y =3\n",
        "\n",
        "(1)は次をセルに書きます。\n",
        "\n",
        "    result1= x+y\n",
        "    print(result1)"
      ]
    },
    {
      "attachments": {},
      "cell_type": "markdown",
      "metadata": {
        "id": "J1pNP4S4cECz"
      },
      "source": [
        "### 変数のデータ型\n",
        "\n",
        "変数はデータ型と呼ばれる型があり、Pythonでは代入された値によって自動的にデータ型が決まります。\n",
        "\n",
        "データ型の代表的な例として、数値型、文字列型と論理型があります。\n",
        "\n",
        "    int型(整数型):整数を表すデータ型。3の値を持つyはint型といえます。\n",
        "\n",
        "    float型(小数型):小数を表すデータ型。3.14の値を持つxはfloat型といえます。\n",
        "   \n",
        "    str型(文字列型):文字列を表すデータ型。'fruits'のようにシングルクォート\n",
        "    （'）またはダブルクォート（\"）を用いてstr型を作ることができます。\n",
        "    ここで注意しなければならないのはスペースは空白記号として認識するため、例えば'fruits'と' fruits 'は別の値と見なされます。\n",
        "    \n",
        "    bool型(論理型):論理値を表すデータ型。TrueまたはFalseの値だけをとります。\n",
        "\n",
        "\n",
        "\n",
        " "
      ]
    },
    {
      "attachments": {},
      "cell_type": "markdown",
      "metadata": {
        "id": "Uz0FAOPUZMZG"
      },
      "source": [
        "![image.png](data:image/png;base64,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)"
      ]
    },
    {
      "attachments": {},
      "cell_type": "markdown",
      "metadata": {
        "id": "sQHLvd6WZCt7"
      },
      "source": [
        "### 問題3\n",
        "\n",
        "    (1)新しく\"apple\"の値を持つ、str型の変数を作成しましょう。\n",
        "    変数名はfruitsとします。\n",
        "    \n",
        "    (2)新しくTrueの値を持つbool型の変数を作りましょう。\n",
        "    変数名はdeliciousとします。"
      ]
    },
    {
      "cell_type": "code",
      "execution_count": 9,
      "metadata": {
        "id": "42jnbDFd0cVf"
      },
      "outputs": [
        {
          "name": "stdout",
          "output_type": "stream",
          "text": [
            "apple\n",
            "True\n"
          ]
        }
      ],
      "source": [
        "#問題3\n",
        "#(1)新しく\"apple\"の値を持つ、str型の変数を作成しましょう。変数名はfruitsとします。\n",
        "fruits = \"apple\"\n",
        "print(fruits)\n",
        "#(2)新しくTrueの値を持つbool型の変数を作りましょう。変数名はdeliciousとします。\n",
        "delicious = True\n",
        "print(delicious)"
      ]
    },
    {
      "attachments": {},
      "cell_type": "markdown",
      "metadata": {
        "id": "eQwHeOXec9Yb"
      },
      "source": [
        "##### ヒント\n",
        "\n",
        "- Pythonにおける変数の作成は=を使います。\n",
        "\n",
        "- 文字列はシングルクォートまたはダブルクォートで囲むことで作成することができます。\n",
        "\n",
        "- Pythonにおけるbool型の値はTrueとFalseだけです。そのほかの値は認められません。"
      ]
    },
    {
      "attachments": {},
      "cell_type": "markdown",
      "metadata": {
        "id": "sgJThNNsc0mc"
      },
      "source": [
        "## 変数のデータ型を調べる\n",
        "\n",
        "変数にはデータ型があることを学びました。\n",
        "\n",
        "データ型により、扱える処理や計算が変わることもあるので、今自身が注目する変数のデータ型が何であるのかを把握しておくことはプログラムの基本となります。\n",
        "\n",
        "具体的に、変数の型を調べるにはtype関数を使います。\n",
        "\n",
        "今、1を代入した変数valueのデータ型を知りたい場合は下記のように記述します。\n",
        "\n",
        "\n",
        "    value = 1    \n",
        "    type(value)  \n",
        "\n",
        "実行すると\n",
        "\n",
        "    <class 'int'>  \n",
        "\n",
        "\n",
        "この例では、変数valueに整数1を代入していましたので、データ型は'int'型となっています。またclassはデータ型の意味です。\n",
        "\n",
        "それでは実際に変数のデータ型を確認しましょう。ここでは前もって３つの変数a,b,cを定義しました。type関数を使い変数のデータ型を調べましょう。\n",
        "\n",
        "### 問題4　次のセルで定義された変数a,b,c,の型を調べましょう。\n",
        "\n"
      ]
    },
    {
      "cell_type": "code",
      "execution_count": 5,
      "metadata": {
        "id": "U8Ik1FfTPvBg"
      },
      "outputs": [
        {
          "name": "stdout",
          "output_type": "stream",
          "text": [
            "<class 'int'>\n",
            "<class 'float'>\n",
            "<class 'complex'>\n"
          ]
        }
      ],
      "source": [
        "#問題4\n",
        "a=3\n",
        "b=3.14\n",
        "c=1+2j\n",
        "#定義された変数a,b,c,の型を調べましょう。\n",
        "print(type(a))\n",
        "print(type(b))\n",
        "print(type(c))\n"
      ]
    },
    {
      "attachments": {},
      "cell_type": "markdown",
      "metadata": {
        "id": "B4DElGtLp49w"
      },
      "source": [
        "## データ型の変換\n",
        "\n",
        "異なるデータ型の計算は注意が必要です。scoreが文字列\"100\"の場合、scoreの1.1倍という計算を実行するとエラーとなります。\n",
        "\n",
        "次のセルを実行しましょう。"
      ]
    },
    {
      "cell_type": "code",
      "execution_count": 6,
      "metadata": {
        "id": "G_IVjj4sqMco"
      },
      "outputs": [
        {
          "ename": "TypeError",
          "evalue": "can't multiply sequence by non-int of type 'float'",
          "output_type": "error",
          "traceback": [
            "\u001b[0;31m---------------------------------------------------------------------------\u001b[0m",
            "\u001b[0;31mTypeError\u001b[0m                                 Traceback (most recent call last)",
            "Cell \u001b[0;32mIn[6], line 2\u001b[0m\n\u001b[1;32m      1\u001b[0m score\u001b[39m=\u001b[39m\u001b[39m\"\u001b[39m\u001b[39m100\u001b[39m\u001b[39m\"\u001b[39m\n\u001b[0;32m----> 2\u001b[0m score\u001b[39m*\u001b[39;49m\u001b[39m1.1\u001b[39;49m\n",
            "\u001b[0;31mTypeError\u001b[0m: can't multiply sequence by non-int of type 'float'"
          ]
        }
      ],
      "source": [
        "score=\"100\"\n",
        "score*1.1"
      ]
    },
    {
      "attachments": {},
      "cell_type": "markdown",
      "metadata": {
        "id": "JX8jIiymqRdJ"
      },
      "source": [
        "これはpython上でfloat型とstr型の計算が扱えないためエラーとなってしまいました。\n",
        "一般に数値型(int型, float型)とstr型の計算において、int型とstr型の乗算以外は認められていません。下記の計算はstr型とint型の計算になります。\n",
        "\n",
        "    score * 2\n",
        "\n",
        "この計算結果は、socreに代入されている文字列\"100\"が2つ並んで、\n",
        "\n",
        "    100100\n",
        "\n",
        "のように１つの文字列となります。\n",
        "\n",
        "またbool型は\n",
        "\n",
        "    1 + True = 2\n",
        "    1 + False = 1\n",
        "\n",
        "のように計算上はTrue=1, False=0といった数値で扱われます。\n",
        "\n",
        "そのため数値型との四則演算はもちろん、数値型と同様にbool型とstr型の計算は乗算だけが認められています。\n",
        "\n",
        "こういった異なるデータ型の演算では、文字列や数値の型の変換を行うことで、数式全体で型を統一して計算する必要があります。\n",
        "\n",
        "ある変数を別のデータ型に変換することをキャストと言います。例えば、変数をstr型にキャストしたい場合にはstr関数を使い、int型にキャストしたい場合には、int関数を使う必要があります。具体的には下記のように記述します。\n",
        "\n",
        "\n",
        "### 問題5\n",
        "\n",
        "    (1)変数scoreには、文字列'100'を代入します。これをint型に変換して変数score_intに代入し直すことでデータ型を変換しましょう。\n",
        "    \n",
        "    (2)変数resultにscore_int*1.1の計算結果を代入します。これをstr型に変換し、変数result_strに代入し直すことでデータ型を変換しましょう。\n"
      ]
    },
    {
      "cell_type": "code",
      "execution_count": 7,
      "metadata": {
        "id": "1HdPfD73JcDP"
      },
      "outputs": [
        {
          "name": "stdout",
          "output_type": "stream",
          "text": [
            "score*1.1=110.00000000000001\n"
          ]
        }
      ],
      "source": [
        "#問題5\n",
        "# (1)scoreの定義\n",
        "score = \"100\"\n",
        "# scoreをint型に変換しscore_intに代入しましょう\n",
        "score_int = int(score)\n",
        "# (2)resultの定義。score_intの1.1倍の計算結果を代入します。\n",
        "result = score_int * 1.1\n",
        "# resultをstr型に変換し,result_strに代入します。\n",
        "result_str = str(result)\n",
        "# 出力\n",
        "print(\"score*1.1=\"+result_str)"
      ]
    },
    {
      "attachments": {},
      "cell_type": "markdown",
      "metadata": {
        "id": "OO7GkphjsQ1i"
      },
      "source": [
        "### 問題6\n",
        "\n",
        "    次を実行しましょう.\n",
        "    (1)z=1+i,w=1-iのふたつの変数を用意せよ.\n",
        "\n",
        "    (2)zw,1/zを計算せよ.\n",
        "   \n",
        "    (3)z,wの型を調べよ.\n",
        "  \n",
        "    (4)1+i+i*i+i*i*iを計算せよ.\n",
        "\n",
        "\n"
      ]
    },
    {
      "cell_type": "code",
      "execution_count": null,
      "metadata": {
        "id": "qSls33pisL1a"
      },
      "outputs": [
        {
          "name": "stdout",
          "output_type": "stream",
          "text": [
            "(2+0j)\n",
            "(0.5-0.5j)\n",
            "<class 'complex'>\n",
            "<class 'complex'>\n",
            "0j\n"
          ]
        }
      ],
      "source": [
        "#問題6\n",
        "#(1)z=1+i,w=1-iのふたつの変数を用意せよ.\n",
        "z = 1 + 1j\n",
        "w = 1 - 1j\n",
        "#(2)zw,1/zを計算せよ.\n",
        "print(z * w)\n",
        "print(1 / z)\n",
        "#(3)z,wの型を調べよ.\n",
        "print(type(z))\n",
        "print(type(w))\n",
        "#(4)1+i+i*i+i*i*iを計算せよ.\n",
        "print(1 + 1j + 1j ** 2 + 1j ** 3)"
      ]
    }
  ],
  "metadata": {
    "colab": {
      "provenance": []
    },
    "kernelspec": {
      "display_name": "Python 3",
      "name": "python3"
    },
    "language_info": {
      "codemirror_mode": {
        "name": "ipython",
        "version": 3
      },
      "file_extension": ".py",
      "mimetype": "text/x-python",
      "name": "python",
      "nbconvert_exporter": "python",
      "pygments_lexer": "ipython3",
      "version": "3.9.16"
    }
  },
  "nbformat": 4,
  "nbformat_minor": 0
}
