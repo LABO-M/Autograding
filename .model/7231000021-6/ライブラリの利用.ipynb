{
 "cells": [
  {
   "attachments": {},
   "cell_type": "markdown",
   "metadata": {
    "id": "VZ2skW1XNeL_"
   },
   "source": [
    "# ライブラリの利用\n",
    "\n",
    "データ分析で必要となるライブラリNumPy,pandasの基礎理解を目的としています。\n",
    "\n"
   ]
  },
  {
   "attachments": {},
   "cell_type": "markdown",
   "metadata": {
    "id": "D_s6ht3QOrJo"
   },
   "source": [
    "### 学籍番号、氏名を入力せよ\n",
    "\n",
    "- 学籍番号：\n",
    "- 氏名:\n",
    "\n",
    "---"
   ]
  },
  {
   "attachments": {},
   "cell_type": "markdown",
   "metadata": {
    "id": "wBvoJqkedkBg"
   },
   "source": [
    "\n",
    "\n",
    "## 1.NumPyとは\n",
    "\n",
    "データ分析を行う場合、ベクトルや行列の演算を繰り返し行う必要があります。Pythonにはリストというデータ構造がありますが、リストを用いた計算では時間・コストがかかります。そこでNumerical Python (NumPy)をインポートすることでndarrayという配列オブジェクトを使用することができ、コードの高速化や省メモリ化ができます。NumPyは数値計算を高速に行うためのオープンソースのライブラリです。ndarrayの配列は数学的にベクトルや行列を表しており、行列を大量の数値データを持つ1つの変数として扱う事ができます。\n",
    "\n",
    "numpyを使うことで、配列同士を計算したり処理することで、一度に多くの計算が可能です。また、配列内の要素には整数や浮動小数点数だけでなく、真偽値や文字列なども格納することができます。\n",
    "\n",
    "そして、scikit-learn、scipy、pandas、tensorflowといったデータ分析では主流のパッケージはNumpyが提供する機能を基に作られており、その特徴の多くを共有しています。したがって、NumPyを理解することができれば、NumPyが基になっているパッケージの学習がスムーズになります。\n",
    "\n"
   ]
  },
  {
   "attachments": {},
   "cell_type": "markdown",
   "metadata": {
    "id": "V0tfbcUEgPbh"
   },
   "source": [
    "### NumPyのインポート\n",
    "\n",
    "ライブラリの読み込み方にはimportを用いたライブラリの読み込み方と、fromとimportを用いた読み込み方の2種類が存在します。\n",
    "\n",
    "ライブラリを一括で読み込む際にはimport,ライブラリの中の一部のモジュールを読み込む際にはfromとimportを用います。\n",
    "\n",
    "    import ライブラリ名\n",
    "\n",
    "    from ライブラリ名　import モジュール名\n",
    "\n",
    "ライブラリを読み込み際の末尾にasを付けることで、ライブラリやモジュールに対して別名を与えることができます。使用するライブラリ名やモジュール名が長すぎる場合や短縮名で呼び出したい時に用います。\n",
    "\n",
    "具体的には以下のようにimportの後にライブラリ名を指定するとライブラリが使えるようになります。\n",
    "\n",
    "    import numpy\n",
    "\n",
    "\n",
    "\n",
    "また、numpyはnpと省略して、以下のように記述してnumpyをインポートするのがならわしです。\n",
    "\n",
    "    import numpy as np\n",
    "\n",
    "\n",
    "すると、sinという関数は\n",
    "\n",
    "    numpy.sin(1)\n",
    "\n",
    "の代わりに\n",
    "\n",
    "    np.sin(1)\n",
    "\n",
    "と短縮して書くことができます。    \n",
    "\n",
    "また、演習率は\n",
    "\n",
    "   np.pi\n",
    "\n",
    "に記憶されています。\n",
    "\n",
    "### 問題1\n",
    "\n",
    "    (1)numpyをnpと省略してインポートしてみましょう。\n",
    "    (2)np.sin(np.pi/2)を計算してみましょう。\n"
   ]
  },
  {
   "cell_type": "code",
   "execution_count": 1,
   "metadata": {
    "id": "G7a2TD0rdUP9"
   },
   "outputs": [
    {
     "name": "stdout",
     "output_type": "stream",
     "text": [
      "1.0\n"
     ]
    }
   ],
   "source": [
    "#問題1\n",
    "# (1)numpyをnpという名前でインポート\n",
    "import numpy as np\n",
    "#(2) np.sin(np.pi/2)の計算し表示せよ\n",
    "print(np.sin(np.pi/2))"
   ]
  },
  {
   "attachments": {},
   "cell_type": "markdown",
   "metadata": {
    "id": "WkGVZ2XRgdIX"
   },
   "source": [
    "### 補足\n",
    "\n",
    "numpyをnpとしてインポートしたように、ライブラリにつける名前にはライブラリ名を省略した名前をつけるのが慣例になっています。"
   ]
  },
  {
   "attachments": {},
   "cell_type": "markdown",
   "metadata": {
    "id": "UjmC52NKKn7P"
   },
   "source": [
    "### 簡単なNumPyの使い方\n",
    "\n",
    "実際にNumPyを使用して配列を作成してみましょう。\n",
    "NumPy配列は下記のように入力することで作成することができます。\n",
    "\n",
    "    numpy.array(オブジェクト)\n",
    "\n",
    "例えば10,20の2個の値からなる配列[10 20]を作成する場合、下記のように記述します。\n",
    "\n",
    "\n",
    "    np.array([10,20])\n"
   ]
  },
  {
   "cell_type": "code",
   "execution_count": 2,
   "metadata": {
    "colab": {
     "base_uri": "https://localhost:8080/"
    },
    "id": "k2kAezTcKpTI",
    "outputId": "041a28c0-3ba2-4bfd-8bf4-2654d64d2b2c"
   },
   "outputs": [
    {
     "data": {
      "text/plain": [
       "array([10, 20])"
      ]
     },
     "execution_count": 2,
     "metadata": {},
     "output_type": "execute_result"
    }
   ],
   "source": [
    "import numpy as np\n",
    "np.array([10,20])"
   ]
  },
  {
   "attachments": {},
   "cell_type": "markdown",
   "metadata": {
    "id": "IaVsK_sY_lyA"
   },
   "source": [
    "オブジェクトに2次元のリスト(リストのリスト)を用いれば、先ほどの[10 20]を縦に2つ並べた2×2の配列を作成することができます。\n",
    "\n",
    "$$\n",
    "\\left(\n",
    "\\begin{array}{cc}\n",
    "10 & 20 \\\\\n",
    "10 & 20\n",
    "\\end{array}\n",
    "\\right)\n",
    "$$"
   ]
  },
  {
   "attachments": {},
   "cell_type": "markdown",
   "metadata": {
    "id": "t08U-a3Kged3"
   },
   "source": [
    "\n",
    "この場合、下記のように記述します。\n",
    "\n",
    "    np.array([[10,20],[10,20]])\n",
    "\n",
    "また、例えば上記の2×2の配列の形状は(2,2)のように表現されます。\n",
    "このように配列の形状はタプルで表現されることも併せて覚えておくと良いでしょう。\n"
   ]
  },
  {
   "cell_type": "code",
   "execution_count": 3,
   "metadata": {
    "id": "_r23DcTvKzdc"
   },
   "outputs": [
    {
     "data": {
      "text/plain": [
       "array([[10, 20],\n",
       "       [10, 20]])"
      ]
     },
     "execution_count": 3,
     "metadata": {},
     "output_type": "execute_result"
    }
   ],
   "source": [
    "np.array([[10,20],[10,20]])"
   ]
  },
  {
   "attachments": {},
   "cell_type": "markdown",
   "metadata": {
    "id": "InHHM465KyPD"
   },
   "source": [
    "\n",
    "### 問題2\n",
    "\n",
    "    (1)配列[1 2 3]をarr1という名前で作成してみましょう。\n",
    "    (2)形状が(2,3)の配列[[1 2 3][4 5 6]]をarr2という名前で作成してみましょう。\n",
    "    (3)arr1,arr2を表示しましょう。\n",
    "    (4)arr1,arr2の型を表示しましょう。\n"
   ]
  },
  {
   "cell_type": "code",
   "execution_count": 1,
   "metadata": {
    "id": "IxwL8ZIPgduN"
   },
   "outputs": [
    {
     "name": "stdout",
     "output_type": "stream",
     "text": [
      "[1 2 3]\n",
      "[[1 2 3]\n",
      " [4 5 6]]\n",
      "<class 'numpy.ndarray'>\n",
      "<class 'numpy.ndarray'>\n"
     ]
    }
   ],
   "source": [
    "#問題2\n",
    "# numpyのインポート\n",
    "import numpy as np\n",
    "# (1)numpy配列の定義\n",
    "arr1 = np.array([1,2,3])\n",
    "# (2)numpy配列の定義\n",
    "arr2 = np.array([[1,2,3],[4,5,6]])\n",
    "# (3)配列の出力\n",
    "print(arr1)\n",
    "print(arr2)\n",
    "# (4)データ型の表示\n",
    "print(type(arr2))\n",
    "print(type(arr1))"
   ]
  },
  {
   "attachments": {},
   "cell_type": "markdown",
   "metadata": {
    "id": "7YhhmI0cgoxm"
   },
   "source": [
    "#### 補足\n",
    "\n",
    "- type関数によってndarray型であることを確認する事ができます。出力結果が[1 2 3]となっており[1,2,3]のリスト型とは異なる点に注意してください。\n",
    "\n",
    "- 多次元配列ではオブジェクトにリストのリストを用意する事で、リストの次元数に応じた配列を表現する事ができます。\n",
    "\n"
   ]
  },
  {
   "attachments": {},
   "cell_type": "markdown",
   "metadata": {
    "id": "OBdK3VCUozOF"
   },
   "source": [
    "## 2. 配列の計算 "
   ]
  },
  {
   "attachments": {},
   "cell_type": "markdown",
   "metadata": {
    "id": "9e3cT8Hpgpcb"
   },
   "source": [
    "### 四則演算\n",
    "\n",
    "配列同士で成分ごとに四則演算するためには、NumPyの関数を使用する方法と演算子を使用する方法の二つがあります。\n",
    "\n",
    "\n",
    "加算には次の書き方があります。\n",
    "\n",
    "    numpy.add(配列1, 配列2)\n",
    "    配列1 + 配列2\n",
    "\n",
    "減算には次の書き方があります。\n",
    "\n",
    "    numpy.subtract(配列1, 配列2)\n",
    "    配列1 - 配列2\n",
    "\n",
    "乗算には次の書き方があります。\n",
    "\n",
    "    numpy.multiply(配列1, 配列2)\n",
    "    配列1 * 配列2\n",
    "\n",
    "除算には次の書き方があります。\n",
    "\n",
    "    numpy.divide(配列1, 配列2)\n",
    "    配列1 / 配列2\n",
    "\n"
   ]
  },
  {
   "attachments": {},
   "cell_type": "markdown",
   "metadata": {
    "id": "AXV64AReL6uo"
   },
   "source": [
    "\n",
    "### 問題3\n",
    "    arr1,arr2に配列が歳入されています。\n",
    "    (1)配列arr1と配列arr2の加算をして表示しましょう。+とadd()を使ってみましょう。\n",
    "    (2)配列arr1と配列arr2の減算をして表示しましょう。-とsubtract()を使ってみましょう。\n",
    "    (3)配列arr1と配列arr2の乗算をして表示しましょう。\n",
    "    (4)配列arr1と配列arr2の除算をして表示しましょう。\n",
    "\n"
   ]
  },
  {
   "cell_type": "code",
   "execution_count": 5,
   "metadata": {
    "id": "HXWY9x6ih7dq"
   },
   "outputs": [
    {
     "name": "stdout",
     "output_type": "stream",
     "text": [
      "[130 240 350]\n",
      "[130 240 350]\n",
      "[ 70 160 250]\n",
      "[ 70 160 250]\n",
      "[ 3000  8000 15000]\n",
      "[3.33333333 5.         6.        ]\n"
     ]
    }
   ],
   "source": [
    "#問題3\n",
    "# numpyのインポート\n",
    "import numpy as np\n",
    "# numpy配列の定義\n",
    "arr1 = np.array([100,200,300])\n",
    "arr2 = np.array([30,40,50])\n",
    "# (1)配列の加算\n",
    "print(arr1 + arr2)\n",
    "print(np.add(arr1, arr2)) # np.add(arr1,arr2)を使う\n",
    "# (2)配列の減算\n",
    "print(arr1 - arr2)\n",
    "print(np.subtract(arr1, arr2)) # np.subtract(arr1,arr2)を使う\n",
    "# (3)配列の乗算\n",
    "print(arr1 * arr2)\n",
    "# (4)配列の除算\n",
    "print(arr1 / arr2)"
   ]
  },
  {
   "attachments": {},
   "cell_type": "markdown",
   "metadata": {
    "id": "EwMy8FyE8sdF"
   },
   "source": [
    "\n",
    "### ヒント\n",
    "\n",
    "- 配列同士の計算には関数か演算子を使用しましょう。\n",
    "\n",
    "- 関数を使用する場合はnumpy.関数(配列1, 配列2)のように記述します。\n",
    "\n",
    "- 演算子を使用する場合は配列1 演算子 配列2のように記述します。\n",
    "\n"
   ]
  },
  {
   "attachments": {},
   "cell_type": "markdown",
   "metadata": {
    "id": "kga0zRh0MWFU"
   },
   "source": [
    "## 指数関数と対数関数\n",
    "\n",
    "NumPyには数値計算用の便利なモジュールがたくさんあります。\n",
    "\n",
    "はじめに指数関数と対数関数のモジュールを使用してみましょう。\n",
    "\n",
    "指数関数は下記のように記述することで使用することができます。\n",
    "\n",
    "    numpy.exp(数値)\n",
    "\n",
    "引数に数値を代入することでネイピア数(自然対数の底)であるe(≒2.7)の数値乗を計算することができます。\n",
    "\n",
    "引数に配列を代入した場合、配列の各要素に対してeの各要素の値乗を計算し、結果を格納した配列を出力します。\n",
    "\n",
    "ネイピア数eはnp.eで表すことができるため、下記の二つの式は同じ意味になります。\n",
    "\n",
    "    np.exp(2) # eの2乗\n",
    "    np.e** 2  # eの2乗"
   ]
  },
  {
   "cell_type": "code",
   "execution_count": 6,
   "metadata": {
    "id": "I-c-un-EMXo0"
   },
   "outputs": [
    {
     "name": "stdout",
     "output_type": "stream",
     "text": [
      "7.38905609893065\n",
      "7.3890560989306495\n"
     ]
    }
   ],
   "source": [
    "print(np.exp(2)) # e^2の計算\n",
    "print(np.e**2)   #　e*eの計算"
   ]
  },
  {
   "attachments": {},
   "cell_type": "markdown",
   "metadata": {
    "id": "KLgaS_4xgpiG"
   },
   "source": [
    "\n",
    "\n",
    "また、対数関数は下記のように記述することで使用することができます。\n",
    "\n",
    "    np.log(数値)\n",
    "\n",
    "log関数は底がeである場合の数値の対数(自然対数)を算出します。\n",
    "\n",
    "引数に配列を代入した場合、配列の各要素に対して対数を計算し、結果を格納した配列を出力します。\n",
    "\n",
    "2が底の対数関数(二進対数)はnp.log2(数値)、10が底の対数関数(常用対数)はnp.log10(数値)で呼び出すことができます。\n",
    "\n",
    "下記は全て1を出力します。\n",
    "\n",
    "    np.log(np.e) # eが底の対数関数\n",
    "    np.log2(2) # 2が底の対数関数\n",
    "    np.log10(10) # 10が底の対数関数\n",
    "\n"
   ]
  },
  {
   "cell_type": "code",
   "execution_count": 7,
   "metadata": {
    "id": "AmCmZs-WAgvs"
   },
   "outputs": [
    {
     "name": "stdout",
     "output_type": "stream",
     "text": [
      "1.0\n",
      "1.0\n",
      "1.0\n"
     ]
    }
   ],
   "source": [
    "print(np.log(np.e)) # eが底の対数関数\n",
    "print(np.log2(2)) # 2が底の対数関数\n",
    "print(np.log10(10)) # 10が底の対数関数"
   ]
  },
  {
   "attachments": {},
   "cell_type": "markdown",
   "metadata": {
    "id": "CL2zST5SAfHb"
   },
   "source": [
    "### 問題4\n",
    "\n",
    "    (1)ネイピア数eの累乗を計算してみましょう。\n",
    "    [0.01, 1, np.e]の要素を持つ配列arrの各要素を引数として計算をして表示しましょう。\n",
    "    (2)配列[0.01, 1, np.e]の自然対数を計算して表示しましょう。\n"
   ]
  },
  {
   "cell_type": "code",
   "execution_count": 9,
   "metadata": {
    "id": "w8cU9tgKiyPZ"
   },
   "outputs": [
    {
     "name": "stdout",
     "output_type": "stream",
     "text": [
      "[ 1.01005017  2.71828183 15.15426224]\n",
      "[-4.60517019  0.          1.        ]\n"
     ]
    }
   ],
   "source": [
    "#問題4\n",
    "# numpyのインポート\n",
    "import numpy as np\n",
    "# numpy配列の定義\n",
    "arr = np.array([0.01,1,np.e])\n",
    "# (1)指数関数\n",
    "print(np.exp(arr))\n",
    "# (2)対数関数\n",
    "print(np.log(arr))"
   ]
  },
  {
   "attachments": {},
   "cell_type": "markdown",
   "metadata": {
    "id": "iigB_dx286Wp"
   },
   "source": [
    "\n",
    "### ヒント\n",
    "\n",
    "- numpy.exp(数値)と記述することでネイピア数の累乗を算出することができます。引数には配列arrを代入してみましょう。\n",
    "\n",
    "- numpy.log(数値)と記述することでネイピア数を底とする対数を算出することができます。引数には配列arrを代入してみましょう。\n"
   ]
  },
  {
   "attachments": {},
   "cell_type": "markdown",
   "metadata": {
    "id": "-r8hjoRGgpkw"
   },
   "source": [
    "#### 補足\n",
    "\n",
    "-  自然対数はlog関数、二進対数はlog2関数、常用対数はlog10関数で使用することができます。問題に応じて使い分けましょう。"
   ]
  },
  {
   "attachments": {},
   "cell_type": "markdown",
   "metadata": {
    "id": "W35sl1AFNUTG"
   },
   "source": [
    "### 三角関数(sin, cos, tan)\n",
    "\n",
    "NumPyを使用して正弦関数(sin)、余弦関数(cos)、正接関数(tan)を算出することができます。これらはそれぞれ下記のように記述することで求めることができます。\n",
    "\n",
    "    numpy.sin(数値)\n",
    "    numpy.cos(数値)\n",
    "    numpy.tan(数値)\n",
    "\n",
    "数値には角度ではなく、ラジアンを指定する必要があります。例えば、180°を表すπ\n",
    "はnumpy.piで使用することができます。\n",
    "下記のように記述することでsin(π)、cos(π)、tan(π)を算出することができます。\n",
    "\n",
    "    import numpy as np\n",
    "    np.sin(np.pi)　# sin(π)の算出\n",
    "    np.cos(np.pi)　# cos(π)の算出\n",
    "    np.tan(np.pi)　# tan(π)の算出"
   ]
  },
  {
   "cell_type": "code",
   "execution_count": 11,
   "metadata": {
    "id": "j9pmtvwHNXFx"
   },
   "outputs": [
    {
     "name": "stdout",
     "output_type": "stream",
     "text": [
      "1.2246467991473532e-16\n",
      "-1.0\n",
      "-1.2246467991473532e-16\n"
     ]
    }
   ],
   "source": [
    "print(np.sin(np.pi))\n",
    "print(np.cos(np.pi))\n",
    "print(np.tan(np.pi))"
   ]
  },
  {
   "attachments": {},
   "cell_type": "markdown",
   "metadata": {
    "id": "n7BxgxirCpUC"
   },
   "source": [
    "また、引数として配列を代入することで、結果をまとめて算出することができます。"
   ]
  },
  {
   "attachments": {},
   "cell_type": "markdown",
   "metadata": {
    "id": "UPLTmoM_tdEu"
   },
   "source": []
  },
  {
   "cell_type": "code",
   "execution_count": 12,
   "metadata": {
    "id": "I_cCkV1BCr85"
   },
   "outputs": [
    {
     "data": {
      "text/plain": [
       "array([0.00000000e+00, 7.07106781e-01, 1.00000000e+00, 7.07106781e-01,\n",
       "       1.22464680e-16])"
      ]
     },
     "execution_count": 12,
     "metadata": {},
     "output_type": "execute_result"
    }
   ],
   "source": [
    "#pi/4刻みの5個の値の配列arrを用意し、sin(arr)を計算\n",
    "arr=np.array([0*np.pi/4,1*np.pi/4,2*np.pi/4,3*np.pi/4,4*np.pi/4])\n",
    "np.sin(arr)"
   ]
  },
  {
   "attachments": {},
   "cell_type": "markdown",
   "metadata": {
    "id": "aCK8BwXugpnG"
   },
   "source": [
    "\n",
    "### 問題5\n",
    "\n",
    "   配列arrの各要素の値のsin,cos,tanの値を算出してみましょう。\n",
    "\n",
    "\n",
    "\n"
   ]
  },
  {
   "cell_type": "code",
   "execution_count": 71,
   "metadata": {
    "id": "snrdW-ZxH2Qk"
   },
   "outputs": [
    {
     "name": "stdout",
     "output_type": "stream",
     "text": [
      "[ 0.00000000e+00  7.07106781e-01  1.00000000e+00  7.07106781e-01\n",
      "  1.22464680e-16 -7.07106781e-01 -1.00000000e+00 -7.07106781e-01\n",
      " -2.44929360e-16]\n",
      "[ 1.00000000e+00  7.07106781e-01  6.12323400e-17 -7.07106781e-01\n",
      " -1.00000000e+00 -7.07106781e-01 -1.83697020e-16  7.07106781e-01\n",
      "  1.00000000e+00]\n",
      "[ 0.00000000e+00  1.00000000e+00  1.63312394e+16 -1.00000000e+00\n",
      " -1.22464680e-16  1.00000000e+00  5.44374645e+15 -1.00000000e+00\n",
      " -2.44929360e-16]\n"
     ]
    }
   ],
   "source": [
    "#問題5\n",
    "# numpyのインポート\n",
    "import numpy as np\n",
    "# 区間[0,2π]の刻み幅(π/4)の等差数列の配列arrを作成します。\n",
    "arr = (np.pi)*np.array([0,1/4,2/4,3/4,4/4,5/4,6/4,7/4,8/4])\n",
    "# sinの計算結果を表示\n",
    "print(np.sin(arr))\n",
    "# cosの計算結果を表示\n",
    "print(np.cos(arr))\n",
    "# tanの計算結果を表示\n",
    "print(np.tan(arr))"
   ]
  },
  {
   "attachments": {},
   "cell_type": "markdown",
   "metadata": {
    "id": "slQIN5Z-9MVj"
   },
   "source": [
    "\n",
    "### ヒント\n",
    "\n",
    "- np.sin(数値)と記述することで正弦関数の値を算出することができます。引数には配列arrを代入してみましょう。\n",
    "\n",
    "- 余弦関数や正接関数はそれぞれnp.cos(数値)、np.tan(数値)と記述することで算出することができます。\n",
    "\n",
    "- これらも引数として配列arrを代入してみましょう。\n",
    "\n",
    "- 等差数列を用意するのにnumpyのlinscapce()関数やarange()関数を使います。\n",
    "\n",
    "    linscapce(a,b,n)で区間[a,b]を(n-1)等分した等差数列の配列を計算します。\n",
    "\n",
    "    np.arange(a,b,c)で区間[a,b]を幅cで分割した等差数列を計算します。\n",
    "\n",
    "    後に解説します。\n",
    "\n",
    "\n"
   ]
  },
  {
   "cell_type": "code",
   "execution_count": null,
   "metadata": {
    "id": "xv_GOrStvPtm"
   },
   "outputs": [],
   "source": [
    "# linspace(a,b,n)の利用\n",
    "print(np.linspace(0,np.pi*2,9))\n",
    "# arange(a,b,c)の利用。右端bを含むように0.001をbに足している。\n",
    "print(np.arange(0,np.pi*2+0.001,np.pi/4))\n",
    "print(arr)"
   ]
  },
  {
   "attachments": {},
   "cell_type": "markdown",
   "metadata": {
    "id": "ofEI1KqEluxM"
   },
   "source": [
    "### 平方根\n",
    "\n",
    "NumPyには平方根を算出するモジュールもあります。\n",
    "平方根を求めるためにはsqrt関数を使用して下記のように記述します。\n",
    "\n",
    "    numpy.sqrt(数値)\n",
    "\n",
    "例えば$\\sqrt{2}$を出力したい時は下記のように記述します。\n",
    "\n",
    "    import numpy as np\n",
    "    np.sqrt(2)\n",
    "\n",
    "引数として配列を代入することで、複数の値の平方根をまとめて算出することができます。\n",
    "\n",
    "### 問題6\n",
    "\n",
    "   配列arrの各要素の値の平方根を算出してみましょう。\n"
   ]
  },
  {
   "cell_type": "code",
   "execution_count": 13,
   "metadata": {
    "id": "5D-USLE5l7eX"
   },
   "outputs": [
    {
     "name": "stdout",
     "output_type": "stream",
     "text": [
      "[  0.  10. 100.]\n"
     ]
    }
   ],
   "source": [
    "#問題6\n",
    "import numpy as np\n",
    "arr = np.array([0,100,10000])\n",
    "# 平方根の算出\n",
    "print(np.sqrt(arr))"
   ]
  },
  {
   "attachments": {},
   "cell_type": "markdown",
   "metadata": {
    "id": "GZy4BcqGluz7"
   },
   "source": [
    "#### 補足\n",
    "\n",
    "- 配列を代入してまとめて平方根を算出することで、高速な計算を行うことができます。"
   ]
  },
  {
   "attachments": {},
   "cell_type": "markdown",
   "metadata": {
    "id": "tzFuYDgzlu20"
   },
   "source": [
    "### 内積\n",
    "\n",
    "ベクトル$\\vec{A}=(A_1,\\cdots,A_n)$と$\\vec{B}=(B_1,\\cdots,B_n)$\n",
    "の内積は、次の式で計算できます。\n",
    "$$\n",
    "\\vec{A}\\cdot \\vec{B}=\\sum_{i=1}^{n}A_i B_i\n",
    "$$\n",
    "\n",
    "例えば二つの配列、\n",
    "\n",
    "    A = (1,2,3)\n",
    "    B = (4,5,6)\n",
    "\n",
    "が与えられた時、内積はA⋅Bで表され、下記の式で算出されます。\n",
    "\n",
    "    A1×B1+A2×B2+A3×B3\n",
    "\n",
    "\n",
    "これは、\n",
    "\n",
    "    1×4+2×5+3×6\n",
    "\n",
    "であるため、32が結果として算出されます。\n",
    "\n",
    "NumPyを使用して配列の内積を算出するためには、dot関数を使用して下記のように記述します。\n",
    "\n",
    "    np.dot(配列1, 配列2)\n",
    "\n",
    "上記のように記述することで二つの配列(配列1と配列2)の内積を算出することができます。\n",
    "\n",
    "### 問題7\n",
    "\n",
    "    配列arr1と配列arr2の内積を算出してみましょう。\n"
   ]
  },
  {
   "cell_type": "code",
   "execution_count": 14,
   "metadata": {
    "id": "8sPNtbAcmtKM"
   },
   "outputs": [
    {
     "name": "stdout",
     "output_type": "stream",
     "text": [
      "32\n"
     ]
    }
   ],
   "source": [
    "#問題7\n",
    "import numpy as np\n",
    "arr1 = np.array([1,2,3])\n",
    "arr2 = np.array([4,5,6])\n",
    "# 内積の算出\n",
    "print(np.dot(arr1,arr2))"
   ]
  },
  {
   "attachments": {},
   "cell_type": "markdown",
   "metadata": {
    "id": "fSiUtI3593L3"
   },
   "source": [
    "\n",
    "### ヒント\n",
    "\n",
    "・numpy.dot(配列1, 配列2)と記述することで配列1と配列2の内積を算出することができます。\n"
   ]
  },
  {
   "attachments": {},
   "cell_type": "markdown",
   "metadata": {
    "id": "qScl4V0nlu5Z"
   },
   "source": [
    "#### 注意\n",
    "\n",
    "- dot関数の引数として、要素数の異なる配列を代入するとエラーが起きてしまうため注意しましょう。\n",
    "\n",
    "- 多次元配列に対してdot関数を使用する場合、内積ではなく行列積を算出することができます。\n",
    "\n"
   ]
  },
  {
   "attachments": {},
   "cell_type": "markdown",
   "metadata": {
    "id": "EIsRwQwEkSIh"
   },
   "source": [
    "## 3. 配列生成"
   ]
  },
  {
   "attachments": {},
   "cell_type": "markdown",
   "metadata": {
    "id": "Lw5UVJ9jlu-O"
   },
   "source": [
    "### 空の配列の作り方\n",
    "\n",
    "はじめに、リストとNumPy配列の作り方の違いを確認しましょう。\n",
    "空のリストを定義するとき、次のように記述しました。\n",
    "\n",
    "    python_list = []\n",
    "\n",
    "空のNumPy配列を定義するときは次のように記述します。\n",
    "\n",
    "    import numpy as np\n",
    "    numpy_array = np.empty(0)\n",
    "\n",
    "empty()関数の引数に配列の長さや形状を入力することで、ランダムな要素を持つ任意のサイズの配列を定義することができます。\n",
    "上記の例では引数を0と指定することで空の配列を定義しています。\n",
    "\n",
    "引数に(2,3)のような形状を指定すると行列を表示させます。\n",
    "要素にeを含む数が現れた時、e+011は「10の11乗」を表し、e-011は「10の−11乗」を表しています。\n",
    "例えば、1.23e+011のような数は1.23と「10の11乗」と掛け算した123000000000を示しています。\n",
    "\n",
    "### 問題8\n",
    "\n",
    "    (1)空の配列numpy_arrayを作成しましょう。またprint関数の出力がどのようになるのか予想し実行してみましょう。\n",
    "    (2)形状(2,3)の空の配列numpy_array1を作成し、表示してみましょう。\n"
   ]
  },
  {
   "cell_type": "code",
   "execution_count": 3,
   "metadata": {
    "id": "SHXEwX9gp0P0"
   },
   "outputs": [
    {
     "name": "stdout",
     "output_type": "stream",
     "text": [
      "[]\n",
      "<class 'numpy.ndarray'>\n",
      "[[1.61324900e-307 3.56043053e-307 1.60219306e-306]\n",
      " [2.44763557e-307 1.69119330e-306 1.33514617e-307]]\n",
      "<class 'numpy.ndarray'>\n"
     ]
    }
   ],
   "source": [
    "#問題8\n",
    "# numpyのインポート\n",
    "import numpy as np\n",
    "#(1)空の配列\n",
    "numpy_array = np.array([])\n",
    "#numpy_arrayの表示とデータ型の表示\n",
    "print(numpy_array)\n",
    "print(type(numpy_array))\n",
    "#(2)(2,3)の形状の空のnumpy配列を作成 np.empty((2,3))\n",
    "numpy_array1 = np.empty((2,3))\n",
    "# numpy_array1の表示とデータ型の表示\n",
    "print(numpy_array1)\n",
    "print(type(numpy_array1))"
   ]
  },
  {
   "attachments": {},
   "cell_type": "markdown",
   "metadata": {
    "id": "G-NIpa1cqLXS"
   },
   "source": [
    "\n",
    "\n",
    "### 等差数列の配列を作る\n",
    "\n",
    "numpyのarange()関数を使用して次のように記述することで一定間隔の配列を定義することができます。\n",
    "\n",
    "    np.arange(開始値,終了値,間隔値)\n",
    "\n",
    "また初期値として開始値には0、間隔値には1が代入されているため、 引数を省略することもできます。引数を省略した場合、作成される配列が下記のように異なることに注意してください。\n",
    "\n",
    "    np.arange(終了値)のとき\n",
    "        0 ≦ 配列 < 終了値 の範囲で間隔値1で配列を作成します。\n",
    "    np.arange(開始値, 終了値)のとき\n",
    "        開始値 ≦ 配列 < 終了値 の範囲で間隔値1で配列を作成します。\n",
    "    np.arange(開始値, 終了値, 間隔値)のとき\n",
    "        開始値 ≦ 配列 < 終了値 の範囲で指定した間隔値で配列を作成します。\n",
    "\n",
    "例えば、開始値1、終了値10、間隔値2の配列は下記のように記述することで作成することができます。\n",
    "\n",
    "\n"
   ]
  },
  {
   "cell_type": "code",
   "execution_count": 17,
   "metadata": {
    "id": "ER7b7RvYt61K"
   },
   "outputs": [
    {
     "name": "stdout",
     "output_type": "stream",
     "text": [
      "[1 3 5 7 9]\n"
     ]
    }
   ],
   "source": [
    "import numpy as np\n",
    "print(np.arange(1,10,2))"
   ]
  },
  {
   "attachments": {},
   "cell_type": "markdown",
   "metadata": {
    "id": "rdm-ywe6uSiw"
   },
   "source": [
    "またlinspace()関数を使用して次のように記述することでも同じように配列を作成することができます。\n",
    "\n",
    "    np.linspace(開始値,終了値,要素数)\n",
    "\n",
    "初期値として要素数には50が代入されているため、下記のように開始値と終了値を入力すると長さ50の一定間隔の配列が生成されます。\n",
    "下記の例では-25から24までの範囲で等間隔に数値を50個出力します。"
   ]
  },
  {
   "cell_type": "code",
   "execution_count": 18,
   "metadata": {
    "id": "ekB66eyJuMUq"
   },
   "outputs": [
    {
     "name": "stdout",
     "output_type": "stream",
     "text": [
      "[-25. -24. -23. -22. -21. -20. -19. -18. -17. -16. -15. -14. -13. -12.\n",
      " -11. -10.  -9.  -8.  -7.  -6.  -5.  -4.  -3.  -2.  -1.   0.   1.   2.\n",
      "   3.   4.   5.   6.   7.   8.   9.  10.  11.  12.  13.  14.  15.  16.\n",
      "  17.  18.  19.  20.  21.  22.  23.  24.]\n"
     ]
    }
   ],
   "source": [
    "import numpy as np\n",
    "print(np.linspace(-25,24))"
   ]
  },
  {
   "attachments": {},
   "cell_type": "markdown",
   "metadata": {
    "id": "Ga2lojljqLaB"
   },
   "source": [
    "注意しなければならない事として、arange()関数の終了値は配列には含まれませんが、linspace()関数の終了値は配列に含まれます。\n",
    "またarange()関数は整数型の要素を、linspace（）関数は浮動小数点型の要素の配列を作成している点も注意してください。\n",
    "\n",
    "### 問題9\n",
    "\n",
    "    (1)arange関数を使用して、11から20まで1ずつ増えていくような配列を作成しましょう。\n",
    "    (2)linspace関数を使用して11から20まで1ずつ増えていくような配列を作成しましょう。\n",
    "\n"
   ]
  },
  {
   "cell_type": "code",
   "execution_count": 19,
   "metadata": {
    "id": "IToW-iLcywZM"
   },
   "outputs": [
    {
     "name": "stdout",
     "output_type": "stream",
     "text": [
      "[11 12 13 14 15 16 17 18 19 20]\n",
      "[11. 12. 13. 14. 15. 16. 17. 18. 19. 20.]\n"
     ]
    }
   ],
   "source": [
    "#問題9\n",
    "import numpy as np\n",
    "#(1)配列の自動生成\n",
    "arr1 = np.arange(11,21)\n",
    "#(2))配列の自動生成\n",
    "arr2 = np.linspace(11,20,10)\n",
    "# arr1,arr2を表示\n",
    "print(arr1)\n",
    "print(arr2)"
   ]
  },
  {
   "attachments": {},
   "cell_type": "markdown",
   "metadata": {
    "id": "0jyeeMWG-y3c"
   },
   "source": [
    "\n",
    "### ヒント\n",
    "\n",
    "- arange()関数の終了値は配列には含まれませんが、linspace()関数の終了値は配列に含まれます。その為、arange()関数では終了値が21で間隔値が1\n",
    "\n",
    "- linspace()関数では終了値が20で要素数は10となります。\n"
   ]
  },
  {
   "attachments": {},
   "cell_type": "markdown",
   "metadata": {
    "id": "ur6H_RONqLc_"
   },
   "source": [
    "#### 補足\n",
    "\n",
    "この2つの関数は配列の自動生成では頻繁に使われる関数なので使い方をよく理解しておきましょう。\n",
    "\n",
    "linspace関数により作成した配列は標準で小数型の配列を作成するため、「11.」などのように小数点がついています。\n",
    "\n"
   ]
  },
  {
   "attachments": {},
   "cell_type": "markdown",
   "metadata": {
    "id": "6NkoO_tN2e-b"
   },
   "source": [
    "\n",
    "\n",
    "### 問題10\n",
    "\n",
    "くり返しのfor文の復習も兼ねて、フィボナッチ数列$x_{0},x_{1},\\cdots,x_{10}$を計算して配列fiboに代入してみましょう。\n",
    "\n",
    "フィボナッチ数列は次の初期条件と漸化式で計算することが出来ます。\n",
    "\n",
    "$$\n",
    "x_{0}=x_{1}=1,x_{n}=x_{n-1}+x_{n-2},n\\ge 2\n",
    "$$\n"
   ]
  },
  {
   "cell_type": "code",
   "execution_count": 24,
   "metadata": {
    "id": "Sl6hAHoO1vhD"
   },
   "outputs": [
    {
     "name": "stdout",
     "output_type": "stream",
     "text": [
      "[ 1.  1.  2.  3.  5.  8. 13. 21. 34. 55. 89.]\n"
     ]
    }
   ],
   "source": [
    "#問題10\n",
    "#空の配列fiboを用意します。\n",
    "fibo=np.empty(11)\n",
    "# fibo[0],fibo[1]に1を代入します。\n",
    "fibo[0]=1\n",
    "fibo[1]=1\n",
    "# forループを使ってfibo[2]からfibo[10]まで計算します\n",
    "for i in range(2,11):\n",
    "    fibo[i]=fibo[i-1]+fibo[i-2]\n",
    "# fiboを出力します\n",
    "print(fibo)"
   ]
  },
  {
   "attachments": {},
   "cell_type": "markdown",
   "metadata": {
    "id": "IOa6g0iljmJj"
   },
   "source": [
    "# Pandas入門\n",
    "\n",
    "データ解析で必要となるライブラリpandasの基礎理解を目的としています。\n",
    "\n"
   ]
  },
  {
   "attachments": {},
   "cell_type": "markdown",
   "metadata": {
    "id": "Apkj3Ann7eS2"
   },
   "source": [
    "## 1 初めてのpandas\n",
    "\n",
    "### pandasパッケージの読み込み\n",
    "\n",
    "今回は、データ分析をしていく中で必要不可欠なライブラリであるpandasの扱い方を学んでいきましょう。\n",
    "\n",
    "pandasの場合はpdという別名をつけることが通例になっています。\n",
    "\n",
    "データ解析を行うとき、\n",
    "\n",
    "    import pandas as pd　\n",
    "    \n",
    "は不可欠なおまじないとして覚えておきましょう。\n",
    "\n",
    "### 問題11\n",
    "\n",
    "    pandasをpdという名前で,numpyをnpという名前でインポートしましょう.\n"
   ]
  },
  {
   "cell_type": "code",
   "execution_count": 1,
   "metadata": {
    "id": "_cJSm-a6_DOS"
   },
   "outputs": [
    {
     "name": "stdout",
     "output_type": "stream",
     "text": [
      "Pandas version: 1.2.2\n",
      "Numpy version: 1.24.2\n"
     ]
    }
   ],
   "source": [
    "#問題11\n",
    "# pandasをpdという名前でインポート\n",
    "import pandas as pd\n",
    "# numpyをnpという名前でインポート\n",
    "import numpy as np\n",
    "# 正しくインポートされていることを確認するためにバージョンを表示\n",
    "print('Pandas version:', pd.__version__)\n",
    "print('Numpy version:', np.__version__)"
   ]
  },
  {
   "attachments": {},
   "cell_type": "markdown",
   "metadata": {
    "id": "etMlC8TCXSiG"
   },
   "source": [
    "### データフレーム(DataFrame)とシリーズ(Series)\n",
    "\n",
    "- pandasはデータフレーム(DataFrame)というデータ管理のための強力なクラスを持っています。\n",
    "\n",
    "- データフレームは表形式の2次元データ（構造化データ）で、行と列で個々のデータの値が指定されます。\n",
    "\n",
    "- DataFrameの特定の列のような1次元データをSeriesと呼びます。\n",
    "\n",
    "- データフレームを作るには各列のデータをarrayとして、それを列方向に束ねる感じです。\n",
    "\n",
    "- [1,2,3,4,5]というnumpyの１次元配列を作ります。"
   ]
  },
  {
   "cell_type": "code",
   "execution_count": 28,
   "metadata": {
    "id": "ZcYP_rWgYsIJ"
   },
   "outputs": [
    {
     "name": "stdout",
     "output_type": "stream",
     "text": [
      "[1 2 3 4 5]\n",
      "[ 2  4  6  8 10]\n",
      "['A' 'B' 'C' 'D' 'E']\n"
     ]
    }
   ],
   "source": [
    "# pandas, numpy のimport\n",
    "import pandas as pd\n",
    "import numpy as np\n",
    "# [1,2,3,4,5]という成分を持つnumpyの1次元配列を作ります。\n",
    "sample_array1=np.array([1,2,3,4,5])\n",
    "# sample_array1の各成分を2倍にした1次元配列を作ります。\n",
    "sample_array2=sample_array1*2\n",
    "# [\"A\",\"B\",\"C\",\"D\",\"E\"]の成分を持つnumpyの１次元配列を作ります。\n",
    "sample_array3=np.array([\"A\",\"B\",\"C\",\"D\",\"E\"])\n",
    "# 各配列を表示します\n",
    "print(sample_array1)\n",
    "print(sample_array2)\n",
    "print(sample_array3)"
   ]
  },
  {
   "attachments": {},
   "cell_type": "markdown",
   "metadata": {
    "id": "PZbtRzg0ZXdl"
   },
   "source": [
    "いま作成した3つのarrayを、列名を\"col1\",\"col2\",\"col3\"としてDataFrameにしてみます。\n",
    "\n",
    "データフレームは列の名称と列に格納するデータを辞書型で \n",
    "\n",
    "     {\"col1\":sample_array1,\"col2\":sample_array2,\"col3\":sample_array3}\n",
    "\n",
    "とし、pd.DataFrame()関数でデータフレームにします。\n",
    "\n",
    "numpyのarrayと異なり、データフレームは列が異なれば数値型と文字列型のデータを混在することができます。"
   ]
  },
  {
   "cell_type": "code",
   "execution_count": 29,
   "metadata": {
    "colab": {
     "base_uri": "https://localhost:8080/"
    },
    "id": "tQ0ISPlrZr5U",
    "outputId": "197a8ec4-a520-4254-c6d2-8f1a8fddf14e"
   },
   "outputs": [
    {
     "name": "stdout",
     "output_type": "stream",
     "text": [
      "   col1  col2 col3\n",
      "0     1     2    A\n",
      "1     2     4    B\n",
      "2     3     6    C\n",
      "3     4     8    D\n",
      "4     5    10    E\n"
     ]
    },
    {
     "data": {
      "text/plain": [
       "pandas.core.frame.DataFrame"
      ]
     },
     "execution_count": 29,
     "metadata": {},
     "output_type": "execute_result"
    }
   ],
   "source": [
    "# sample_array1,sample_array2,sample_array3を#col1\",\"col2\",\"col3\"の列名でデータフレームsample_dfにします。\n",
    "sample_df=pd.DataFrame({\"col1\":sample_array1,\"col2\":sample_array2,\"col3\":sample_array3})\n",
    "# sample_dfを表示します\n",
    "print(sample_df)\n",
    "# sample_dfの型を表示します\n",
    "type(sample_df)"
   ]
  },
  {
   "attachments": {},
   "cell_type": "markdown",
   "metadata": {
    "id": "sJyztDo3axHD"
   },
   "source": [
    "### 列に対するデータフレームの操作\n",
    "\n",
    "データフレームの各列は\n",
    "\n",
    "     sampple_df.col1\n",
    "\n",
    "または、\n",
    "\n",
    "     sample_df[\"col1\"]\n",
    "\n",
    "\n",
    "として取り出すことができます。各列の型ははSeries型です。     "
   ]
  },
  {
   "cell_type": "code",
   "execution_count": 30,
   "metadata": {
    "id": "HLEEnoONa3hs"
   },
   "outputs": [
    {
     "name": "stdout",
     "output_type": "stream",
     "text": [
      "0    1\n",
      "1    2\n",
      "2    3\n",
      "3    4\n",
      "4    5\n",
      "Name: col1, dtype: int64\n",
      "0    1\n",
      "1    2\n",
      "2    3\n",
      "3    4\n",
      "4    5\n",
      "Name: col1, dtype: int64\n",
      "<class 'pandas.core.series.Series'>\n"
     ]
    }
   ],
   "source": [
    "# sampple_df.col1として\"col1\"列を取り出して表示します\n",
    "print(sample_df.col1)\n",
    "#　sample_df[\"col1\"]として\"col1\"列を取り出して表示します\n",
    "print(sample_df[\"col1\"])\n",
    "#　\"col1\"列の型を表示します\n",
    "print(type(sample_df.col1))"
   ]
  },
  {
   "attachments": {},
   "cell_type": "markdown",
   "metadata": {
    "id": "AylZKUQ8fR51"
   },
   "source": [
    "複数の列を取り出す場合は、角括弧内にリスト形式で列名を複数指定します。\n",
    "\n",
    "リストの角括弧と合わせて2重の角括弧になります。"
   ]
  },
  {
   "cell_type": "code",
   "execution_count": 31,
   "metadata": {
    "id": "likjFu3ofdrR"
   },
   "outputs": [
    {
     "name": "stdout",
     "output_type": "stream",
     "text": [
      "   col1  col2\n",
      "0     1     2\n",
      "1     2     4\n",
      "2     3     6\n",
      "3     4     8\n",
      "4     5    10\n"
     ]
    }
   ],
   "source": [
    "#  sampple_dfの\"col1\"と\"col2\"列を取り出し表示します\n",
    "print(sample_df[[\"col1\",\"col2\"]])"
   ]
  },
  {
   "attachments": {},
   "cell_type": "markdown",
   "metadata": {
    "id": "HCXPPQRzf5L4"
   },
   "source": [
    "特定の列をなくすにはdrop(\"列名\",axis=1)とします。"
   ]
  },
  {
   "cell_type": "code",
   "execution_count": 32,
   "metadata": {
    "id": "cJ5MJ047gIRX"
   },
   "outputs": [
    {
     "name": "stdout",
     "output_type": "stream",
     "text": [
      "   col2 col3\n",
      "0     2    A\n",
      "1     4    B\n",
      "2     6    C\n",
      "3     8    D\n",
      "4    10    E\n",
      "   col1  col2 col3\n",
      "0     1     2    A\n",
      "1     2     4    B\n",
      "2     3     6    C\n",
      "3     4     8    D\n",
      "4     5    10    E\n"
     ]
    }
   ],
   "source": [
    "# sample_dfから\"col1\"列を削除します\n",
    "print(sample_df.drop(\"col1\",axis=1))\n",
    "# sample_dfを表示します\n",
    "print(sample_df)"
   ]
  },
  {
   "attachments": {},
   "cell_type": "markdown",
   "metadata": {
    "id": "DBhcqv30kGge"
   },
   "source": [
    "Seriesはarrayと同様に扱えますが、arrayのほうが使いやすいこともあります。Seriesをarrayに変換する場合はnp.array()を使います。"
   ]
  },
  {
   "cell_type": "code",
   "execution_count": 33,
   "metadata": {
    "id": "r6vlpv3akZi9"
   },
   "outputs": [
    {
     "data": {
      "text/plain": [
       "array([1, 2, 3, 4, 5])"
      ]
     },
     "execution_count": 33,
     "metadata": {},
     "output_type": "execute_result"
    }
   ],
   "source": [
    "# sample_dfの\"col1\"列をarrayに変換します。\n",
    "np.array(sample_df.col1)"
   ]
  },
  {
   "attachments": {},
   "cell_type": "markdown",
   "metadata": {
    "id": "1KGFa53KcJbc"
   },
   "source": [
    "\n",
    "### 問題12\n",
    "\n",
    "    (1)１から10の整数列と\"A\"から\"J\"のアルファベットの文字列のarrayを作成せよ。\n",
    "       それぞれの名前をarr1,arr2とする。\n",
    "    (2)(1)で作成した2個のarrayを列名を\"Numbers\",\"Alphabets\"としてデータフレームdfにしなさい。\n",
    "    (3)(2)で作成したデータフレームdfの\"Numbers\"列を取り出し表示しなさい。\n",
    "    (4)データフレームdfから\"Alphabets\"列を削除したものをdf2に代入し表示せよ。\n",
    "    (5)df2をnumpyのarrayに変換し、df2_arr1に代入せよ。\n"
   ]
  },
  {
   "cell_type": "code",
   "execution_count": 44,
   "metadata": {
    "id": "Z0mp0GPGdHMm"
   },
   "outputs": [
    {
     "name": "stdout",
     "output_type": "stream",
     "text": [
      "0     1\n",
      "1     2\n",
      "2     3\n",
      "3     4\n",
      "4     5\n",
      "5     6\n",
      "6     7\n",
      "7     8\n",
      "8     9\n",
      "9    10\n",
      "Name: Numbers, dtype: int64\n",
      "   Numbers\n",
      "0        1\n",
      "1        2\n",
      "2        3\n",
      "3        4\n",
      "4        5\n",
      "5        6\n",
      "6        7\n",
      "7        8\n",
      "8        9\n",
      "9       10\n",
      "[[ 1]\n",
      " [ 2]\n",
      " [ 3]\n",
      " [ 4]\n",
      " [ 5]\n",
      " [ 6]\n",
      " [ 7]\n",
      " [ 8]\n",
      " [ 9]\n",
      " [10]]\n"
     ]
    }
   ],
   "source": [
    "#問題12\n",
    "# pandas, numpy のimport\n",
    "import pandas as pd\n",
    "import numpy as np\n",
    "#(1)１から10の整数列のarrayをarr1という名前で作成せよ\n",
    "arr1 = np.arange(1,11)\n",
    "#\"A\"から\"J\"のアルファベットの文字列のarrayをarr2という名前で作成せよ。\n",
    "arr2 = np.array([\"A\",\"B\",\"C\",\"D\",\"E\",\"F\",\"G\",\"H\",\"I\",\"J\"])\n",
    "#(2)(1)で作成したarr1,arr2を列名を\"Numbers\",\"Alphabets\"としてデータフレームdfにしなさい。\n",
    "df = pd.DataFrame({\"Numbers\":arr1,\"Alphabets\":arr2})\n",
    "#(3)(2)で作成したデータフレームの\"Numbers\"列を取り出し表示しなさい。\n",
    "print(df[\"Numbers\"])\n",
    "#(4)データフレームから\"Alphabets\"列を削除したものをdf2に代入し表示せよ。\n",
    "df2 = df.drop(\"Alphabets\",axis=1)\n",
    "print(df2)\n",
    "#(5)df2をnumpyのarrayに変換し、df2_arr1に代入し、表示せよ。\n",
    "df2_arr1 = df2.to_numpy()\n",
    "print(df2_arr1)"
   ]
  },
  {
   "attachments": {},
   "cell_type": "markdown",
   "metadata": {
    "id": "fxVW1bROgYJX"
   },
   "source": [
    "### 行に対するデータフレームの操作\n",
    "\n",
    "データフレームの先頭を取得するにはhead(n)メソッドを使います。nは取得する行数です。\n",
    "\n",
    "    sample_df.head(n)"
   ]
  },
  {
   "cell_type": "code",
   "execution_count": 36,
   "metadata": {
    "id": "cfE6YJOFkwmv"
   },
   "outputs": [
    {
     "name": "stdout",
     "output_type": "stream",
     "text": [
      "   col1  col2 col3\n",
      "0     1     2    A\n",
      "1     2     4    B\n",
      "2     3     6    C\n"
     ]
    }
   ],
   "source": [
    "# sample_dfの先頭3行を表示\n",
    "print(sample_df.head(n=3))"
   ]
  },
  {
   "attachments": {},
   "cell_type": "markdown",
   "metadata": {
    "id": "O2e7DoPqk9nI"
   },
   "source": [
    "データフレームの末尾を取得するにはtail(n)メソッドを用います。\n",
    "\n",
    "    sample_df.tail(n)"
   ]
  },
  {
   "cell_type": "code",
   "execution_count": 37,
   "metadata": {
    "id": "8_7cmrc6lGc9"
   },
   "outputs": [
    {
     "name": "stdout",
     "output_type": "stream",
     "text": [
      "   col1  col2 col3\n",
      "2     3     6    C\n",
      "3     4     8    D\n",
      "4     5    10    E\n"
     ]
    }
   ],
   "source": [
    "# sample_dfの最後の3行を表示\n",
    "print(sample_df.tail(3))"
   ]
  },
  {
   "attachments": {},
   "cell_type": "markdown",
   "metadata": {
    "id": "2AosIvCsk3Qa"
   },
   "source": [
    "もっと柔軟にデータの抽出を行うにはquery()メソッドを使います。最初の1行を取り出すなら\n",
    "\n",
    "    sample_df.query(\"index=0\")\n",
    "\n",
    "とします。"
   ]
  },
  {
   "cell_type": "code",
   "execution_count": 38,
   "metadata": {
    "id": "hpS4UHZ5l2SW"
   },
   "outputs": [
    {
     "name": "stdout",
     "output_type": "stream",
     "text": [
      "   col1  col2 col3\n",
      "0     1     2    A\n"
     ]
    }
   ],
   "source": [
    "# queryメソッドを使ってsample_dfの最初の1行（0行目）を取り出し表示しなさい\n",
    "print(sample_df.query(\"index==0\"))"
   ]
  },
  {
   "attachments": {},
   "cell_type": "markdown",
   "metadata": {
    "id": "gI6QkndsmIWD"
   },
   "source": [
    "2行目より後ろの行なら\n",
    "\n",
    "    sample_df.query(\"index>0\")\n",
    "\n",
    "\n",
    "とします。"
   ]
  },
  {
   "cell_type": "code",
   "execution_count": 39,
   "metadata": {
    "id": "iGvXJrgYmGFF"
   },
   "outputs": [
    {
     "name": "stdout",
     "output_type": "stream",
     "text": [
      "   col1  col2 col3\n",
      "1     2     4    B\n",
      "2     3     6    C\n",
      "3     4     8    D\n",
      "4     5    10    E\n"
     ]
    }
   ],
   "source": [
    "# queryメソッドを使って2行目以降を取り出し表示しなさい\n",
    "print(sample_df.query(\"index>0\"))"
   ]
  },
  {
   "attachments": {},
   "cell_type": "markdown",
   "metadata": {
    "id": "fgxjSSnBmQt-"
   },
   "source": [
    "col3という列がAの行を取得する場合、\n",
    "\n",
    "    sample_df.query('col3==\"A\"')\n",
    "\n",
    "とします。"
   ]
  },
  {
   "cell_type": "code",
   "execution_count": 40,
   "metadata": {
    "id": "CSH4-7kamCEX"
   },
   "outputs": [
    {
     "name": "stdout",
     "output_type": "stream",
     "text": [
      "   col1  col2 col3\n",
      "0     1     2    A\n"
     ]
    }
   ],
   "source": [
    "print(sample_df.query('col3==\"A\"'))"
   ]
  },
  {
   "attachments": {},
   "cell_type": "markdown",
   "metadata": {
    "id": "ji4IYthFmnNn"
   },
   "source": [
    "複数の条件を指定することもできます。「col3列がAまたはＤ」という条件で取り出すなら"
   ]
  },
  {
   "cell_type": "code",
   "execution_count": 41,
   "metadata": {
    "id": "UXDxVfmgmy1r"
   },
   "outputs": [
    {
     "name": "stdout",
     "output_type": "stream",
     "text": [
      "   col1  col2 col3\n",
      "0     1     2    A\n",
      "3     4     8    D\n"
     ]
    }
   ],
   "source": [
    "print(sample_df.query('col3==\"A\" | col3==\"D\"'))"
   ]
  },
  {
   "attachments": {},
   "cell_type": "markdown",
   "metadata": {
    "id": "GXNxAU5cmyPB"
   },
   "source": [
    "「col3列がAであり、かつ、col1列が3」という条件で抽出なら"
   ]
  },
  {
   "cell_type": "code",
   "execution_count": 42,
   "metadata": {
    "id": "5NmXWX03nf36"
   },
   "outputs": [
    {
     "name": "stdout",
     "output_type": "stream",
     "text": [
      "Empty DataFrame\n",
      "Columns: [col1, col2, col3]\n",
      "Index: []\n"
     ]
    }
   ],
   "source": [
    "print(sample_df.query('col3==\"A\" & col1==3'))"
   ]
  },
  {
   "attachments": {},
   "cell_type": "markdown",
   "metadata": {
    "id": "jXIIjjAQnsVx"
   },
   "source": [
    "データフレームsample_dfにはこの条件に合致する行がありません。\n",
    "\n",
    "最後に、「col3列がAの行で、col2,col3列のみ」を取り出してみます。"
   ]
  },
  {
   "cell_type": "code",
   "execution_count": 43,
   "metadata": {
    "id": "WwX93dL0oGBZ"
   },
   "outputs": [
    {
     "name": "stdout",
     "output_type": "stream",
     "text": [
      "   col2 col3\n",
      "0     2    A\n"
     ]
    }
   ],
   "source": [
    "print(sample_df.query('col3==\"A\"')[[\"col2\",\"col3\"]])"
   ]
  },
  {
   "attachments": {},
   "cell_type": "markdown",
   "metadata": {
    "id": "VDwWTfMVoT18"
   },
   "source": [
    "\n",
    "### 問題13\n",
    "\n",
    "    (1)１から6の整数列,1から6の整数列の二乗のと\"A\"から\"F\"のアルファベットの文字列のarrayを作成せよ。\n",
    "       名前をarr1,arr2,arr3とする。\n",
    "    (2)(1)で作成したarrayを列名を\"Numbers\",\"Squares\",\"Alphabets\"としてデータフレームdf3にしなさい。\n",
    "    (3)(2)で作成したデータフレームdf3で第1列が3以上の行を取得しなさい。\n",
    "    (4)(2)で作成したデータフレームdf3で第1列が3以上の行の第2列、第3列を取り出し表示しなさい。\n"
   ]
  },
  {
   "cell_type": "code",
   "execution_count": 47,
   "metadata": {
    "id": "Eow0UyrxpbHy"
   },
   "outputs": [
    {
     "name": "stdout",
     "output_type": "stream",
     "text": [
      "   Numbers  Squares Alphabets\n",
      "2        3        9         C\n",
      "3        4       16         D\n",
      "4        5       25         E\n",
      "5        6       36         F\n",
      "   Squares Alphabets\n",
      "2        9         C\n",
      "3       16         D\n",
      "4       25         E\n",
      "5       36         F\n"
     ]
    }
   ],
   "source": [
    "#問題13\n",
    "# pandas, numpy のimport\n",
    "import pandas as pd\n",
    "import numpy as np\n",
    "#(1)１から6の整数列,1から6の整数列の二乗のと\"A\"から\"F\"のアルファベットの文字列のarrayを作成せよ。\n",
    "# 名前をarr1,arr2,arr3とする。\n",
    "arr1 = np.arange(1,7)\n",
    "arr2 = np.power(arr1, 2)\n",
    "arr3 = np.array([\"A\",\"B\",\"C\",\"D\",\"E\",\"F\"])\n",
    "#(2)(1)で作成したarrayを列名を\"Numbers\",\"Squares\",\"Alphabets\"としてデータフレームdf3にしなさい。\n",
    "df3 = pd.DataFrame({\"Numbers\":arr1,\"Squares\":arr2,\"Alphabets\":arr3})\n",
    "#(3)(2)で作成したデータフレームdf3で第1列が3以上の行を取得し表示しなさい。\n",
    "print(df3[df3[\"Numbers\"]>=3])\n",
    "#(4)(2)で作成したデータフレームdfで第1列が3以上の行の第2列、第3列を取り出し表示しなさい。\n",
    "print(df3[df3[\"Numbers\"]>=3][[\"Squares\",\"Alphabets\"]])"
   ]
  },
  {
   "attachments": {},
   "cell_type": "markdown",
   "metadata": {
    "id": "xp6IZt38q8Vp"
   },
   "source": [
    "### データフレームの結合\n",
    "\n",
    "作成されたデータフレームを結合して新しいデータフレームを作ることができます。\n",
    "\n",
    "まず、データフレームを２つ作ります。各々3行2列です。"
   ]
  },
  {
   "cell_type": "code",
   "execution_count": 48,
   "metadata": {
    "id": "NjGkjX-CrMkL"
   },
   "outputs": [
    {
     "name": "stdout",
     "output_type": "stream",
     "text": [
      "   col1 col2\n",
      "0     1    A\n",
      "1     2    B\n",
      "2     3    C\n",
      "   col1 col2\n",
      "0     4    D\n",
      "1     5    E\n",
      "2     6    F\n"
     ]
    }
   ],
   "source": [
    "df1=pd.DataFrame({'col1':np.array([1,2,3]),'col2':np.array([\"A\",\"B\",\"C\"])})\n",
    "df2=pd.DataFrame({'col1':np.array([4,5,6]),'col2':np.array([\"D\",\"E\",\"F\"])})\n",
    "print(df1)\n",
    "print(df2)"
   ]
  },
  {
   "attachments": {},
   "cell_type": "markdown",
   "metadata": {
    "id": "gfWZryUzrtFm"
   },
   "source": [
    "この二つのデータフレームを縦方向につなげます。\n",
    "\n",
    "pd.cancat()関数を使います。結果は6行2列のデータフレームになります。"
   ]
  },
  {
   "cell_type": "code",
   "execution_count": 49,
   "metadata": {
    "id": "n-203SPLr5p2"
   },
   "outputs": [
    {
     "name": "stdout",
     "output_type": "stream",
     "text": [
      "   col1 col2\n",
      "0     1    A\n",
      "1     2    B\n",
      "2     3    C\n",
      "0     4    D\n",
      "1     5    E\n",
      "2     6    F\n"
     ]
    }
   ],
   "source": [
    "print(pd.concat([df1,df2]))"
   ]
  },
  {
   "attachments": {},
   "cell_type": "markdown",
   "metadata": {
    "id": "pLPdPzuRr_3m"
   },
   "source": [
    "続いて、横方向に結合します。axis=1という引数をpd.concat()に追加します。結果は3行4列のデータフレームです。"
   ]
  },
  {
   "cell_type": "code",
   "execution_count": 50,
   "metadata": {
    "id": "4hdbmg2XsNiE"
   },
   "outputs": [
    {
     "name": "stdout",
     "output_type": "stream",
     "text": [
      "   col1 col2  col1 col2\n",
      "0     1    A     4    D\n",
      "1     2    B     5    E\n",
      "2     3    C     6    F\n"
     ]
    }
   ],
   "source": [
    "print(pd.concat([df1,df2],axis=1))"
   ]
  },
  {
   "attachments": {},
   "cell_type": "markdown",
   "metadata": {
    "id": "xuKwzMmosqb1"
   },
   "source": [
    "\n",
    "### 問題14\n",
    "\n",
    "    (1)１から4の整数列,1から4の整数列の二乗のと\"A\"から\"D\"のアルファベットの文字列の3列からなる\n",
    "    データフレームdf1を作成しなさい。列名は\"col1\",\"col2\",\"col3\"とします。\n",
    "    (2)5から8の整数列,5から8の整数列の二乗のと\"E\"から\"H\"のアルファベットの文字列の3列からなる\n",
    "    データフレームdf2を作成しなさい。列名は\"col1\",\"col2\",\"col3\"とします。\n",
    "    (3)(1)(2)で作成したデータフレームを縦方向に結合し、表示しなさい。\n",
    "    (4)(1)(2)で作成したデータフレームを横方向に結合し、表示しなさい。\n"
   ]
  },
  {
   "cell_type": "code",
   "execution_count": 51,
   "metadata": {
    "id": "uzffkFJTtVt_"
   },
   "outputs": [
    {
     "name": "stdout",
     "output_type": "stream",
     "text": [
      "   col1  col2 col3\n",
      "0     1     1    A\n",
      "1     2     4    B\n",
      "2     3     9    C\n",
      "3     4    16    D\n",
      "0     5    25    E\n",
      "1     6    36    F\n",
      "2     7    49    G\n",
      "3     8    64    H\n",
      "   col1  col2 col3  col1  col2 col3\n",
      "0     1     1    A     5    25    E\n",
      "1     2     4    B     6    36    F\n",
      "2     3     9    C     7    49    G\n",
      "3     4    16    D     8    64    H\n"
     ]
    }
   ],
   "source": [
    "#問題14\n",
    "# pandas, numpy のimport\n",
    "import pandas as pd\n",
    "import numpy as np\n",
    "#(1)１から4の整数列,1から4の整数列の二乗と\"A\"から\"D\"のアルファベットの文字列の3列からなるデータフレームdf1を作成しなさい。列名は\"col1\",\"col2\",\"col3\"とします。\n",
    "arr1 = np.arange(1,5)\n",
    "arr2 = np.power(arr1, 2)\n",
    "arr3 = np.array([\"A\",\"B\",\"C\",\"D\"])\n",
    "df1 = pd.DataFrame({\"col1\":arr1,\"col2\":arr2,\"col3\":arr3})\n",
    "#(2)5から8の整数列,5から8の整数列の二乗のと\"E\"から\"H\"のアルファベットの文字列の3列からなるデータフレームdf2を作成しなさい。列名は\"col1\",\"col2\",\"col3\"とします。\n",
    "arr1 = np.arange(5,9)\n",
    "arr2 = np.power(arr1, 2)\n",
    "arr3 = np.array([\"E\",\"F\",\"G\",\"H\"])\n",
    "df2 = pd.DataFrame({\"col1\":arr1,\"col2\":arr2,\"col3\":arr3})\n",
    "#(3)(1)(2)で作成したデータフレームを縦方向に結合し、表示しなさい。\n",
    "df_vertical = pd.concat([df1,df2], axis=0)\n",
    "print(df_vertical)\n",
    "#(4)(1)(2)で作成したデータフレームを横方向に結合し、表示しなさい。\n",
    "df_horizontal = pd.concat([df1,df2], axis=1)\n",
    "print(df_horizontal)"
   ]
  },
  {
   "attachments": {},
   "cell_type": "markdown",
   "metadata": {
    "id": "xBVbXtyAO_Fm"
   },
   "source": [
    "## 2. pandasを使ったデータ読み込み\n",
    "\n",
    "pandasでは身近なcsv形式やExcel形式から普段あまり使用しないjson形式のデータまで様々なデータを読み込むことが可能です。\n",
    "\n",
    "今回は医療費データを読み込んでみます。\n",
    "\n",
    "このデータは保険会社が医療費の予測を行うために用いられているものです。\n",
    "\n",
    "Excelで開いてデータの概要を確認しましょう。次の内容をもつ1338件のデータです。\n",
    "\n",
    "$$\n",
    "\\begin{array}{|c|c|}\n",
    "\\hline \n",
    "    列名 & 内容 \\\\\n",
    "\\hline    \n",
    "    \\mbox{age} & \\mbox{受益者の年齢} \\\\\n",
    "    \\mbox{sex} & \\mbox{保険加入者の性別} \\\\　\n",
    "    \\mbox{bmi} & \\mbox{体格指数.18.5から24.9が理想的な値.}\\\\\n",
    "    \\mbox{children} & \\mbox{子・扶養者の数（整数）}\\\\\n",
    "    \\mbox{smoker} & \\mbox{日常的に喫煙するかどうかのカテゴリー変数} \\\\\n",
    "    \\mbox{region} & \\mbox{アメリカ国内の居住地.東北、南東、南西、北西の4地域}\\\\\n",
    "    \\mbox{charges} & \\mbox{医療費} \\\\\n",
    "\\hline    \n",
    "\\end{array}    \n",
    "$$\n",
    "\n",
    "csv形式のデータに関しては、カンマで区切られたデータの横一列を「行」と呼びます。先頭行はヘッダーと呼びます。\n",
    "\n",
    "read_csv()関数を使用して、データをDataFrameオブジェクトに読み込むことができます。\n",
    "\n",
    "作業中のフォルダ・ディレクトリにデータがある場合は、次のようにしてデータを読み込みます。\n",
    "\n",
    "    pd.read_csv('ファイル名')\n",
    "\n",
    "read_csv()関数には様々に引数が存在し、読み込むデータの形式や形状により任意の引数を指定します。\n",
    "\n",
    "ここではデータ分析の際によく用いる引数をいくつか紹介します。\n",
    "\n",
    "読み込むデータの文字コードがshift_jisを含むものであれば、読み込み時に適切な文字コードに対応させる必要があります。\n",
    "その場合は引数encodingに読み込むべき文字コードを指定することで、適切に読み込むことが可能となります。\n",
    "OSがWindowsの場合などで指定することが多い引数となっています。\n",
    "\n",
    "    df = pd.read_csv(\"ファイル名\",encoding='shift_jis')\n",
    "\n",
    "\n",
    "\n"
   ]
  },
  {
   "attachments": {},
   "cell_type": "markdown",
   "metadata": {
    "id": "JTAnzJ4LO--t"
   },
   "source": [
    "特定の列をインデックスとして読み込むためには、引数index_colに列名または列の位置番号を指定します。時系列のデータを扱う際に日付のデータをインデックスとして読み取る場合などがあります。列の位置番号は0始まりであることに注意してください。\n",
    "\n",
    "引数usecolsに列名のリストを指定することで列名を絞って読み込むことができます。\n",
    "\n",
    "    df = pd.read_csv(\"ファイル名\",usecols=列名のリスト)\n",
    "\n"
   ]
  },
  {
   "attachments": {},
   "cell_type": "markdown",
   "metadata": {
    "id": "XxFuOI5yRCfv"
   },
   "source": [
    "---\n",
    "\n",
    "### 補足　Google Colaboratoryの場合以下の操作が必要です。\n",
    "\n",
    "- Jupyer HUBのプログラミング環境を用いている場合はマウントは必要ありません。\n",
    "\n",
    "　　データファイルをJupyter HUBのホームディレクトリにUPするだけです。\n",
    "\n",
    "　　以下はスキップして次に進んでください。\n"
   ]
  },
  {
   "attachments": {},
   "cell_type": "markdown",
   "metadata": {
    "id": "liFamVmxxTtD"
   },
   "source": [
    "- Google のマイドライブのマウント"
   ]
  },
  {
   "attachments": {},
   "cell_type": "markdown",
   "metadata": {
    "id": "ewXd53wwRHA_"
   },
   "source": [
    "![マウント.png](data:image/png;base64,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)"
   ]
  },
  {
   "attachments": {},
   "cell_type": "markdown",
   "metadata": {
    "id": "wKALxzFUTwgq"
   },
   "source": [
    "\n",
    "\n",
    "1. ブラウザの左端にフォルダのアイコンがあると思います。それをクリックして開いてください。\n",
    "\n",
    "    Colabo.はクラウド上に仮想のLinuxパソコンを動かし、仮想LinuxパソコンでPythonのプログラムを実行するものです。\n",
    "    そのため、Goooleのマイドライブと仮想Linuxパソコンのドライブを接続しないと、GoogleのマイドライブのファイルをColabo.から処理することはできません。\n",
    "    このドライブの接続のことを\"マウントする\"といいます。\n",
    "\n",
    "    フォルダのアイコンをクリックして開いた先に、4つのアイコンが横に並んでいると思います。\n",
    "    そのうち、左から3番目のアイコンがマウントとマウントの解除のボタンです。\n",
    "\n",
    "    マウントされていないときは、仮想Linuxパソコンのルートディレクトリ(..)と、\n",
    "    sample_dataフォルダの二つのフォルダだけが表示されます。\n",
    "\n",
    "2. マウントを実行します。すると、Googleから接続の許可を求められます。そのときは、指示されたURLでパスワードをコピーし、そのパスワードで接続を許可します。\n",
    "\n",
    "    マウントが成功すれば、sample_data以外にdriveフォルダも確認できるようになります。\n",
    "    Googleのマイドライブは driveの下のフォルダです。\n",
    "\n",
    "3. Colabo.にマウントされたマイドライブからinsurance.csvファイルを探し、パスというドライブ上の位置を示すものをコピーします。"
   ]
  },
  {
   "cell_type": "code",
   "execution_count": null,
   "metadata": {
    "id": "U2v5l0TuQXL1"
   },
   "outputs": [],
   "source": [
    "from google.colab import drive\n",
    "drive.mount('/content/drive')"
   ]
  },
  {
   "attachments": {},
   "cell_type": "markdown",
   "metadata": {
    "id": "4yTqkKY3Rsu6"
   },
   "source": [
    "以上、Google Colaboratoryでの準備でした。\n",
    "\n",
    "---"
   ]
  },
  {
   "attachments": {},
   "cell_type": "markdown",
   "metadata": {
    "id": "vnC7Dj8hQXve"
   },
   "source": [
    "#### 問題15\n",
    "\n",
    "    (1)医療費データinsurance.csvをread_csv()関数で引数にファイルのURLを指定して変数df1に読み込み、先頭の2行を表示しましょう。\n",
    "    (2)医療費データinsurance.csvをread_csv()関数で引数にファイルのURLと列は\"sex\",\"age\",\"charges\"に限定して変数df2に読み込み、先頭の2行を表示しましょう。"
   ]
  },
  {
   "cell_type": "code",
   "execution_count": 54,
   "metadata": {
    "colab": {
     "base_uri": "https://localhost:8080/"
    },
    "id": "VxKqFcN8RENj",
    "outputId": "9d063dcf-6b61-4f0c-9501-4272572f1881"
   },
   "outputs": [
    {
     "name": "stdout",
     "output_type": "stream",
     "text": [
      "   age     sex    bmi  children smoker     region     charges\n",
      "0   19  female  27.90         0    yes  southwest  16884.9240\n",
      "1   18    male  33.77         1     no  southeast   1725.5523\n",
      "   age     sex     charges\n",
      "0   19  female  16884.9240\n",
      "1   18    male   1725.5523\n"
     ]
    }
   ],
   "source": [
    "#問題15\n",
    "# pandasをインポート\n",
    "import pandas as pd\n",
    "# (1)insuranceをread_csv()で変数df1に読み込みましょう\n",
    "df1 = pd.read_csv('insurance.csv')\n",
    "#先頭の2行を表示\n",
    "print(df1.head(2))\n",
    "# (2)insurance.csvの\"age\",\"sex\",\"charges\"の3列に限定してread_csv()で変数df2に読み込みましょう.\n",
    "df2 = pd.read_csv('insurance.csv', usecols=['age', 'sex', 'charges'])\n",
    "#先頭の2行を表示\n",
    "print(df2.head(2))"
   ]
  },
  {
   "attachments": {},
   "cell_type": "markdown",
   "metadata": {
    "id": "5Y5I1yg-O_CI"
   },
   "source": [
    "また、pandasはデータ読み込み時に各列のデータ型を自動的に推測します。\n",
    "推測したデータ型はdtypes関数を用いることで確認できます。\n",
    "データを読み込んだ変数dfの各列のデータ型を確認は次のようにします。  \n",
    "\n",
    "    df.dtypes\n",
    "\n",
    "#### 問題16\n",
    "\n",
    "    df1の各列のデータ型を表示しましょう。\n",
    "\n",
    "\n",
    "\n",
    "\n",
    "\n"
   ]
  },
  {
   "cell_type": "code",
   "execution_count": 55,
   "metadata": {
    "id": "RW0KwqlkP8Dn"
   },
   "outputs": [
    {
     "name": "stdout",
     "output_type": "stream",
     "text": [
      "age           int64\n",
      "sex          object\n",
      "bmi         float64\n",
      "children      int64\n",
      "smoker       object\n",
      "region       object\n",
      "charges     float64\n",
      "dtype: object\n"
     ]
    }
   ],
   "source": [
    "#問題16\n",
    "#df1の各列のデータ型を表示しましょう。\n",
    "print(df1.dtypes)"
   ]
  },
  {
   "attachments": {},
   "cell_type": "markdown",
   "metadata": {
    "id": "V8bAAKLN5RI6"
   },
   "source": [
    "- \"age\",\"children\"列は整数(int64)、\"bmi\",\"charges\"は小数点数型(float64)になっているのが分かります。\n",
    "\n",
    "- その他の列はobjectになっています。\n",
    "\n",
    "- python object型とは文字列だけではなく、整数・浮動小数・リストなど全てがオブジェクトとなりますので、これら全てを格納することができる型ということになります。"
   ]
  },
  {
   "attachments": {},
   "cell_type": "markdown",
   "metadata": {
    "id": "K8L1R1ycO_Id"
   },
   "source": [
    "### 型の指定\n",
    "\n",
    "- pandasが自動的に読み込んだ型が想定通りでない場合もあります。\n",
    "\n",
    "その場合はデータを読み込む際に、引数dtypeとして対象の列名とデータ型の辞書を指定します。例えば、保険データでsex列のみカテゴリー型にする場合、\n",
    "\n",
    "    dtype={\"sex\":\"category\"}\n",
    "\n",
    "とします。\n",
    "\n",
    "全ての列を同一のデータ型で読み込みたい場合は、引数dtypeにデータ型を指定します。例えば文字型で読み込むなら\n",
    "\n",
    "    dtype=\"str\"\n",
    "\n",
    "とします。\n",
    "\n",
    "dtypeを適切に指定してデータを読み込むことで、メモリの節約にも繋がります。\n",
    "\n",
    "医療費のデータの全列を文字型、sex,smoker,regionの列をデータ型categoryとして読み込み、データ型を確認してみましょう。\n",
    "\n",
    "\n",
    "\n",
    "\n",
    "\n"
   ]
  },
  {
   "attachments": {},
   "cell_type": "markdown",
   "metadata": {
    "id": "BJ-T4lzBCV_G"
   },
   "source": [
    "### 問題17\n",
    "\n",
    "    (1)insurance.csvの全ての列の型をstr型に指定してdf1に読み込んでください。\n",
    "    そして、各列のデータ型を確認しましょう。\n",
    "    (2)insurance.csvのsex,smoker,regionをcategory型に、他の列は指定せずにdfに読み込んでください。\n",
    "    そして各列のデータ型を確認しましょう。\n",
    "\n"
   ]
  },
  {
   "cell_type": "code",
   "execution_count": 57,
   "metadata": {
    "id": "DX4aBhaVudjO"
   },
   "outputs": [
    {
     "name": "stdout",
     "output_type": "stream",
     "text": [
      "age         object\n",
      "sex         object\n",
      "bmi         object\n",
      "children    object\n",
      "smoker      object\n",
      "region      object\n",
      "charges     object\n",
      "dtype: object\n",
      "age            int64\n",
      "sex         category\n",
      "bmi          float64\n",
      "children       int64\n",
      "smoker      category\n",
      "region      category\n",
      "charges      float64\n",
      "dtype: object\n"
     ]
    }
   ],
   "source": [
    "#問題17\n",
    "# pandasをインポート\n",
    "import pandas as pd\n",
    "# (1)insuranceを全ての列の型をstr型に指定して変数df1に読み込みましょう\n",
    "df1 = pd.read_csv('insurance.csv', dtype=str)\n",
    "# df1の各列のデータ型を表示\n",
    "print(df1.dtypes)\n",
    "# (2)insurance.csvの\"sex\",\"smoker\",\"region\"の3列をcategory型に指定して変数df2に読み込みましょう.\n",
    "df2 = pd.read_csv('insurance.csv', dtype={'sex': 'category', 'smoker': 'category', 'region': 'category'})\n",
    "#dfの各列のデータ型を表示\n",
    "print(df2.dtypes)"
   ]
  },
  {
   "attachments": {},
   "cell_type": "markdown",
   "metadata": {
    "id": "hsNTMtFs8Ok_"
   },
   "source": [
    "#### 補足\n",
    "\n",
    "- Excel形式のデータも同様にread_excel()関数を使用して、データをDataFrameオブジェクトに読み込むことができます。\n",
    "\n",
    "- csvファイルの先頭行が列名となっていず、データの場合、header=Falseのオプションを指定します。\n",
    "\n",
    "  このオプションを指定しないと、先頭行を列名と勘違いし、次の行からをデータとして読み込んでしまいます。\n",
    "\n",
    "\n"
   ]
  },
  {
   "attachments": {},
   "cell_type": "markdown",
   "metadata": {
    "id": "5BW27ZGQ-3Sn"
   },
   "source": [
    "以上で基本的なデータ読み込みの方法を紹介しました。\n",
    "\n",
    "次は実際にデータを表示してみて、データ概要を確認しましょう。\n",
    "\n"
   ]
  },
  {
   "attachments": {},
   "cell_type": "markdown",
   "metadata": {
    "id": "GfvJY2ypL-BT"
   },
   "source": [
    "### 注意\n",
    "\n",
    "以下、dfには問題17(2)で作成したデータフレームが格納されているものとします。または、次のセルを実行しても同じです。\n",
    "\n",
    "\n"
   ]
  },
  {
   "cell_type": "code",
   "execution_count": 53,
   "metadata": {
    "id": "eAggW3HJNFc0"
   },
   "outputs": [
    {
     "name": "stdout",
     "output_type": "stream",
     "text": [
      "https://raw.githubusercontent.com/stedy/Machine-Learning-with-R-datasets/master/insurance.csv\n",
      "age            int64\n",
      "sex         category\n",
      "bmi          float64\n",
      "children       int64\n",
      "smoker      category\n",
      "region      category\n",
      "charges      float64\n",
      "dtype: object\n"
     ]
    }
   ],
   "source": [
    "#WEB上のcsvデータを読み込んでデータフレームとする。\n",
    "import pandas as pd\n",
    "import urllib.request\n",
    "from io import StringIO\n",
    "#WEB上のデータのURLを指定\n",
    "url = \"https://raw.githubusercontent.com/stedy/Machine-Learning-with-R-datasets/master/insurance.csv\"\n",
    "#データを読み込む関数を定義\n",
    "def read_csv(url):\n",
    "    print(url)\n",
    "    res = urllib.request.urlopen(url)\n",
    "    res = res.read().decode(\"utf-8\")\n",
    "    df = pd.read_csv(StringIO(res))\n",
    "    return df\n",
    "df=read_csv(url)\n",
    "df= df.astype({\"sex\":\"category\",\"smoker\":\"category\",\"region\":\"category\"})\n",
    "print(df.dtypes)"
   ]
  },
  {
   "attachments": {},
   "cell_type": "markdown",
   "metadata": {
    "id": "q1H1oO9O9Oqw"
   },
   "source": [
    "## 3. データの確認\n",
    "\n",
    "データ分析の第一歩は注意深くデータを確認することです。\n",
    "実際に医療費のデータを確認してみましょう。\n",
    "\n",
    "以下、データを読み込んだ変数をdfとします。また、変数のことを一般にオブジェクトと呼びます。\n",
    "\n",
    "head関数によりdfの先頭n行を参照することができます。\n",
    "また、nの値を指定せずにhead()とした場合はn=5とした先頭5行を表示します。\n",
    "\n",
    "    df.head(3)\n",
    "\n",
    "\n",
    "tail関数によりdfの末尾n行を参照することができます。\n",
    "head関数と同様にnの値を指定せずにtail()とした場合はn=5として末尾5行を表示します。\n",
    "\n",
    "    df.tail(3)\n",
    "\n",
    "全データを出力するには、dfをコマンドセルに打ち込んで実行します。\n",
    "\n",
    "    df\n",
    "\n",
    "\n",
    "\n",
    "\n"
   ]
  },
  {
   "attachments": {},
   "cell_type": "markdown",
   "metadata": {
    "id": "Ae67anPVTDKj"
   },
   "source": [
    "### 各列の要素の確認とカウント\n",
    "\n",
    "各列のユニークな要素のリストを表示したい場合は、unique 関数を用います。\n",
    "ユニークな要素の値とその出現回数を表示したい場合は、value_counts関数で得ることができます。\n",
    "\n",
    "医療費のデータの列\"sex\"のユニークな要素の値と出現回数を見てみましょう。\n",
    "\n",
    "    df['sex'].value_counts()\n"
   ]
  },
  {
   "attachments": {},
   "cell_type": "markdown",
   "metadata": {
    "id": "dh-gYGAeUhaK"
   },
   "source": [
    "出現回数を正規化し、割合として表示したい場合はvalue_counts関数の引数normalizeにTrueを渡しましょう。\n",
    "\n",
    "    df['sex'].value_counts(normalize=True)\n",
    "\n"
   ]
  },
  {
   "cell_type": "code",
   "execution_count": 59,
   "metadata": {
    "id": "8ZkCUSO6THHz"
   },
   "outputs": [
    {
     "data": {
      "text/plain": [
       "['female', 'male']\n",
       "Categories (2, object): ['female', 'male']"
      ]
     },
     "execution_count": 59,
     "metadata": {},
     "output_type": "execute_result"
    }
   ],
   "source": [
    "df[\"sex\"].unique()"
   ]
  },
  {
   "cell_type": "code",
   "execution_count": 60,
   "metadata": {
    "id": "HDQVD5JnUvbn"
   },
   "outputs": [
    {
     "data": {
      "text/plain": [
       "male      676\n",
       "female    662\n",
       "Name: sex, dtype: int64"
      ]
     },
     "execution_count": 60,
     "metadata": {},
     "output_type": "execute_result"
    }
   ],
   "source": [
    "df[\"sex\"].value_counts()"
   ]
  },
  {
   "attachments": {},
   "cell_type": "markdown",
   "metadata": {
    "id": "cR_sIAHbUf-W"
   },
   "source": [
    "\n",
    "#### 問題18\n",
    "\n",
    "医療費データを読み込んだデータフレームオブジェクトをdfとします。\n",
    "\n",
    "    (1)dfの先頭3行、後ろの3行を表示しましょう。\n",
    "    (2)dfの\"sex\",\"smoker\",\"region\"列のユニークな要素と割合を調べましょう。"
   ]
  },
  {
   "cell_type": "code",
   "execution_count": 61,
   "metadata": {
    "id": "yTTBQR060C9j"
   },
   "outputs": [
    {
     "name": "stdout",
     "output_type": "stream",
     "text": [
      "   age     sex    bmi  children smoker     region     charges\n",
      "0   19  female  27.90         0    yes  southwest  16884.9240\n",
      "1   18    male  33.77         1     no  southeast   1725.5523\n",
      "2   28    male  33.00         3     no  southeast   4449.4620\n",
      "      age     sex    bmi  children smoker     region     charges\n",
      "1335   18  female  36.85         0     no  southeast   1629.8335\n",
      "1336   21  female  25.80         0     no  southwest   2007.9450\n",
      "1337   61  female  29.07         0    yes  northwest  29141.3603\n",
      "male      0.505232\n",
      "female    0.494768\n",
      "Name: sex, dtype: float64\n",
      "no     0.795217\n",
      "yes    0.204783\n",
      "Name: smoker, dtype: float64\n",
      "southeast    0.272048\n",
      "northwest    0.242900\n",
      "southwest    0.242900\n",
      "northeast    0.242152\n",
      "Name: region, dtype: float64\n"
     ]
    }
   ],
   "source": [
    "#問題18\n",
    "# (1)dfの先頭3行を表示\n",
    "print(df.head(3))\n",
    "# (1)dfの後ろの3行を表示\n",
    "print(df.tail(3))\n",
    "# (2)sex列のユニークな要素と割合を調べる\n",
    "print(df['sex'].value_counts(normalize=True))\n",
    "# (2)smoker列のユニークな要素と割合を調べる\n",
    "print(df['smoker'].value_counts(normalize=True))\n",
    "# (2)region列のユニークな要素と割合を調べる\n",
    "print(df['region'].value_counts(normalize=True))"
   ]
  },
  {
   "attachments": {},
   "cell_type": "markdown",
   "metadata": {
    "id": "q4e5LWemDAQp"
   },
   "source": [
    "### データのサイズの確認\n",
    "\n",
    "　　データの行数や列数、どのような性質を持つ列であるかを確認しましょう。\n",
    "\n",
    "　　下記で説明する関数はデータ形式を確認する際によく使用するのでできれば覚えてしまいましょう。\n",
    "\n",
    "　　読み込んだデータの大きさを確認するには、データフレームのshapeにアクセスします。\n",
    "\n",
    "　　データの大きさは(行数,列数)というtuple型というデータ型で出力されます。\n",
    "\n",
    "\n",
    "    df.shape\n",
    "\n",
    "読み込んだデータの行数を確認するには、len()を用います。\n",
    "\n",
    "    len(df)\n",
    "\n",
    "\n",
    "または、shapeの出力の第0成分です。\n",
    "\n",
    "    df.shape[0]\n",
    "\n",
    "読み込んだデータの要素数を確認するには、sizeにアクセスします。\n",
    "これは行数 * 列数に等しい値となります。\n",
    "医療費のデータに関しては、(行数,列数)が(1338, 7)となるので要素数は9366となります。\n",
    "\n",
    "    df.size\n",
    "\n",
    "読み込んだデータの列名を取得するには、columnsにアクセスします。\n",
    "\n",
    "    df.columns\n",
    "\n",
    "\n",
    "\n",
    "\n"
   ]
  },
  {
   "attachments": {},
   "cell_type": "markdown",
   "metadata": {
    "id": "rF4scuZbDTdg"
   },
   "source": [
    "### 問題19\n",
    "\n",
    "    (1)医療費のデータの列数、データ数、行数を出力してください。\n",
    "    (2)医療費のデータの列名リストをcols_listに代入してください。\n",
    "\n"
   ]
  },
  {
   "cell_type": "code",
   "execution_count": 63,
   "metadata": {
    "id": "XiU5266n6MmP"
   },
   "outputs": [
    {
     "name": "stdout",
     "output_type": "stream",
     "text": [
      "7\n",
      "1338\n",
      "1338\n",
      "9366\n",
      "Index(['age', 'sex', 'bmi', 'children', 'smoker', 'region', 'charges'], dtype='object')\n"
     ]
    }
   ],
   "source": [
    "#問題19\n",
    "# (1)列数を表示\n",
    "print(df.shape[1])\n",
    "# (1)行数を表示\n",
    "print(len(df)) # lenで計算\n",
    "print(df.shape[0]) # shapeで計算\n",
    "# (1)データ数を表示\n",
    "print(df.size)\n",
    "# (2)列名リストをcols_listに代入して表示\n",
    "cols_list = df.columns\n",
    "print(cols_list)"
   ]
  },
  {
   "attachments": {},
   "cell_type": "markdown",
   "metadata": {
    "id": "5cKVQO0L0zFh"
   },
   "source": [
    "\n",
    "### ヒント  \n",
    "\n",
    "- 列の大きさをlen()を用いて確認することで、データの列数を抜き出すことも可能です。\n",
    "\n",
    "    len(df.columns)\n",
    "\n",
    "\n",
    "\n",
    "- 列数は下記の記述の仕方でも確認することができます。\n",
    "\n",
    "    print(df.shape[1]）    \n",
    "\n",
    "\n",
    "\n",
    "- データのcolumnsにアクセスすることで、列名を取得することが可能です。\n",
    "\n",
    "    df.columns\n",
    "\n",
    "\n",
    "\n",
    "\n"
   ]
  },
  {
   "attachments": {},
   "cell_type": "markdown",
   "metadata": {
    "id": "uFaMIWL47qQk"
   },
   "source": [
    "### データの並び替え\n",
    "\n",
    "データの要素や列名を元に並び替えを行い、データの確認を行いましょう。\n",
    "\n",
    " データの要素の値に応じてソートするにはsort_values()を用います。 ソートしたい列名を引数byに指定することで、ソートすることが可能となります。 また、ソート順はデフォルトは昇順です。降順にしたい場合は引数ascendingをFalseにしましょう。\n",
    "\n",
    "ソートしたい列名、ソート順については複数指定可能です。複数指定したい場合は、引数をリストで指定しましょう。\n",
    "\n",
    "医療費のデータを\"charges\"（医療費）の降順で先頭3件表示してみましょう。\n",
    "\n"
   ]
  },
  {
   "cell_type": "code",
   "execution_count": 64,
   "metadata": {
    "id": "YVy8rBP28BOa"
   },
   "outputs": [
    {
     "data": {
      "text/html": [
       "<div>\n",
       "<style scoped>\n",
       "    .dataframe tbody tr th:only-of-type {\n",
       "        vertical-align: middle;\n",
       "    }\n",
       "\n",
       "    .dataframe tbody tr th {\n",
       "        vertical-align: top;\n",
       "    }\n",
       "\n",
       "    .dataframe thead th {\n",
       "        text-align: right;\n",
       "    }\n",
       "</style>\n",
       "<table border=\"1\" class=\"dataframe\">\n",
       "  <thead>\n",
       "    <tr style=\"text-align: right;\">\n",
       "      <th></th>\n",
       "      <th>age</th>\n",
       "      <th>sex</th>\n",
       "      <th>bmi</th>\n",
       "      <th>children</th>\n",
       "      <th>smoker</th>\n",
       "      <th>region</th>\n",
       "      <th>charges</th>\n",
       "    </tr>\n",
       "  </thead>\n",
       "  <tbody>\n",
       "    <tr>\n",
       "      <th>543</th>\n",
       "      <td>54</td>\n",
       "      <td>female</td>\n",
       "      <td>47.410</td>\n",
       "      <td>0</td>\n",
       "      <td>yes</td>\n",
       "      <td>southeast</td>\n",
       "      <td>63770.42801</td>\n",
       "    </tr>\n",
       "    <tr>\n",
       "      <th>1300</th>\n",
       "      <td>45</td>\n",
       "      <td>male</td>\n",
       "      <td>30.360</td>\n",
       "      <td>0</td>\n",
       "      <td>yes</td>\n",
       "      <td>southeast</td>\n",
       "      <td>62592.87309</td>\n",
       "    </tr>\n",
       "    <tr>\n",
       "      <th>1230</th>\n",
       "      <td>52</td>\n",
       "      <td>male</td>\n",
       "      <td>34.485</td>\n",
       "      <td>3</td>\n",
       "      <td>yes</td>\n",
       "      <td>northwest</td>\n",
       "      <td>60021.39897</td>\n",
       "    </tr>\n",
       "  </tbody>\n",
       "</table>\n",
       "</div>"
      ],
      "text/plain": [
       "      age     sex     bmi  children smoker     region      charges\n",
       "543    54  female  47.410         0    yes  southeast  63770.42801\n",
       "1300   45    male  30.360         0    yes  southeast  62592.87309\n",
       "1230   52    male  34.485         3    yes  northwest  60021.39897"
      ]
     },
     "execution_count": 64,
     "metadata": {},
     "output_type": "execute_result"
    }
   ],
   "source": [
    "df.sort_values(by=\"charges\",ascending=False).head(3)"
   ]
  },
  {
   "attachments": {},
   "cell_type": "markdown",
   "metadata": {
    "id": "oVf4coUg1GzX"
   },
   "source": [
    "\n",
    "医療費の降順にソートされていることが確認できました。bmiを見ると肥満の傾向があり（30以上）、smokerを見ると喫煙者でもあることが分かります。\n",
    "\n",
    "ソートされたデータのインデックスを確認すると、543−1300−1230と元のインデックスを保持していることも確認できます。ソート順で新たにインデックスを振り直したい場合は、reset_index()を用います。元々のインデックスが不要である場合は、drop=Trueと引数を指定してください。\n",
    "\n",
    "また、ソートする列に欠損値NaN（Not a Number）が含まれている場合は、欠損値が含まれるレコードは末尾に集約されます。\n",
    "\n",
    "欠損値が含まれるレコードを先頭に集約してソートしたい場合はna_position='first'と引数を指定してください。\n",
    "\n",
    "このように、pandasで読み込んだデータに対して条件を指定することで様々な観点からデータを確認することが可能となります。\n",
    "\n",
    "問題を通して、さらに様々な観点からデータを確認してみましょう。\n",
    "\n"
   ]
  },
  {
   "attachments": {},
   "cell_type": "markdown",
   "metadata": {
    "id": "rvAfowxpEIRE"
   },
   "source": [
    "### 問題20\n",
    "\n",
    "    医療費のデータフレームdfを用いて以下の解析を行う.\n",
    "    (1)\"age\"列について降順でソートし、先頭10行を確認せよ。\n",
    "    (2)\"bmi\"列について降順でソートし、先頭10行を表示せよ。\n"
   ]
  },
  {
   "cell_type": "code",
   "execution_count": 65,
   "metadata": {
    "id": "KAnBYqwk-EFn"
   },
   "outputs": [
    {
     "name": "stdout",
     "output_type": "stream",
     "text": [
      "      age     sex     bmi  children smoker     region      charges\n",
      "335    64    male  34.500         0     no  southwest  13822.80300\n",
      "603    64  female  39.050         3     no  southeast  16085.12750\n",
      "752    64    male  37.905         0     no  northwest  14210.53595\n",
      "1265   64    male  23.760         0    yes  southeast  26926.51440\n",
      "534    64    male  40.480         0     no  southeast  13831.11520\n",
      "328    64  female  33.800         1    yes  southwest  47928.03000\n",
      "768    64  female  39.700         0     no  southwest  14319.03100\n",
      "1241   64    male  36.960         2    yes  southeast  49577.66240\n",
      "62     64    male  24.700         1     no  northwest  30166.61817\n",
      "801    64  female  35.970         0     no  southeast  14313.84630\n",
      "      age     sex     bmi  children smoker     region      charges\n",
      "172    18    male  15.960         0     no  northeast   1694.79640\n",
      "428    21  female  16.815         1     no  northeast   3167.45585\n",
      "1226   38    male  16.815         2     no  northeast   6640.54485\n",
      "412    26  female  17.195         2    yes  northeast  14455.64405\n",
      "1286   28  female  17.290         0     no  northeast   3732.62510\n",
      "1029   37  female  17.290         2     no  northeast   6877.98010\n",
      "250    18    male  17.290         2    yes  northeast  12829.45510\n",
      "28     23    male  17.385         1     no  northwest   2775.19215\n",
      "680    21  female  17.400         1     no  southwest   2585.26900\n",
      "410    19    male  17.480         0     no  northwest   1621.34020\n"
     ]
    }
   ],
   "source": [
    "#問題20\n",
    "# (1)\"age\"列について降順でソートし、先頭10行を確認せよ。\n",
    "print(df.sort_values('age', ascending=False).head(10))\n",
    "# (2)\"bmi\"列について昇順でソートし、先頭10行を表示せよ。\n",
    "print(df.sort_values('bmi').head(10))"
   ]
  },
  {
   "attachments": {},
   "cell_type": "markdown",
   "metadata": {
    "id": "hWAtagCDU8J_"
   },
   "source": [
    "### データの選択を行う\n",
    "\n",
    "ここまではデータをそのままの形で確認したり、全体に対してデータの並び替えを行ってきました。今回はある条件のデータを抽出し確認する方法を紹介します。\n",
    "\n",
    "データの「列」での取り出し方と「行」での取り出し方を説明します。\n",
    "\n",
    "#### 1.列での取り出し方\n",
    "\n",
    "読み込んだデータから特定の列のみ取り出したい場合は、DataFrameの後に列名を渡します。複数指定したい場合は、列名のリストを渡してください。\n",
    "医療費のデータから\"charges\"のみを取り出してみましょう。\n"
   ]
  },
  {
   "cell_type": "code",
   "execution_count": 66,
   "metadata": {
    "id": "_W_FEP5iUp4C"
   },
   "outputs": [
    {
     "data": {
      "text/plain": [
       "0       16884.92400\n",
       "1        1725.55230\n",
       "2        4449.46200\n",
       "3       21984.47061\n",
       "4        3866.85520\n",
       "           ...     \n",
       "1333    10600.54830\n",
       "1334     2205.98080\n",
       "1335     1629.83350\n",
       "1336     2007.94500\n",
       "1337    29141.36030\n",
       "Name: charges, Length: 1338, dtype: float64"
      ]
     },
     "execution_count": 66,
     "metadata": {},
     "output_type": "execute_result"
    }
   ],
   "source": [
    "df[\"charges\"]"
   ]
  },
  {
   "attachments": {},
   "cell_type": "markdown",
   "metadata": {
    "id": "7wqXQxHQVHcw"
   },
   "source": [
    "医療費のデータから\"charges\"と\"bmi\"を取り出してみましょう。\n"
   ]
  },
  {
   "cell_type": "code",
   "execution_count": 67,
   "metadata": {
    "id": "zPiC_YegVCoj"
   },
   "outputs": [
    {
     "data": {
      "text/html": [
       "<div>\n",
       "<style scoped>\n",
       "    .dataframe tbody tr th:only-of-type {\n",
       "        vertical-align: middle;\n",
       "    }\n",
       "\n",
       "    .dataframe tbody tr th {\n",
       "        vertical-align: top;\n",
       "    }\n",
       "\n",
       "    .dataframe thead th {\n",
       "        text-align: right;\n",
       "    }\n",
       "</style>\n",
       "<table border=\"1\" class=\"dataframe\">\n",
       "  <thead>\n",
       "    <tr style=\"text-align: right;\">\n",
       "      <th></th>\n",
       "      <th>charges</th>\n",
       "      <th>bmi</th>\n",
       "    </tr>\n",
       "  </thead>\n",
       "  <tbody>\n",
       "    <tr>\n",
       "      <th>0</th>\n",
       "      <td>16884.92400</td>\n",
       "      <td>27.900</td>\n",
       "    </tr>\n",
       "    <tr>\n",
       "      <th>1</th>\n",
       "      <td>1725.55230</td>\n",
       "      <td>33.770</td>\n",
       "    </tr>\n",
       "    <tr>\n",
       "      <th>2</th>\n",
       "      <td>4449.46200</td>\n",
       "      <td>33.000</td>\n",
       "    </tr>\n",
       "    <tr>\n",
       "      <th>3</th>\n",
       "      <td>21984.47061</td>\n",
       "      <td>22.705</td>\n",
       "    </tr>\n",
       "    <tr>\n",
       "      <th>4</th>\n",
       "      <td>3866.85520</td>\n",
       "      <td>28.880</td>\n",
       "    </tr>\n",
       "    <tr>\n",
       "      <th>...</th>\n",
       "      <td>...</td>\n",
       "      <td>...</td>\n",
       "    </tr>\n",
       "    <tr>\n",
       "      <th>1333</th>\n",
       "      <td>10600.54830</td>\n",
       "      <td>30.970</td>\n",
       "    </tr>\n",
       "    <tr>\n",
       "      <th>1334</th>\n",
       "      <td>2205.98080</td>\n",
       "      <td>31.920</td>\n",
       "    </tr>\n",
       "    <tr>\n",
       "      <th>1335</th>\n",
       "      <td>1629.83350</td>\n",
       "      <td>36.850</td>\n",
       "    </tr>\n",
       "    <tr>\n",
       "      <th>1336</th>\n",
       "      <td>2007.94500</td>\n",
       "      <td>25.800</td>\n",
       "    </tr>\n",
       "    <tr>\n",
       "      <th>1337</th>\n",
       "      <td>29141.36030</td>\n",
       "      <td>29.070</td>\n",
       "    </tr>\n",
       "  </tbody>\n",
       "</table>\n",
       "<p>1338 rows × 2 columns</p>\n",
       "</div>"
      ],
      "text/plain": [
       "          charges     bmi\n",
       "0     16884.92400  27.900\n",
       "1      1725.55230  33.770\n",
       "2      4449.46200  33.000\n",
       "3     21984.47061  22.705\n",
       "4      3866.85520  28.880\n",
       "...           ...     ...\n",
       "1333  10600.54830  30.970\n",
       "1334   2205.98080  31.920\n",
       "1335   1629.83350  36.850\n",
       "1336   2007.94500  25.800\n",
       "1337  29141.36030  29.070\n",
       "\n",
       "[1338 rows x 2 columns]"
      ]
     },
     "execution_count": 67,
     "metadata": {},
     "output_type": "execute_result"
    }
   ],
   "source": [
    "df[['charges','bmi']]"
   ]
  },
  {
   "attachments": {},
   "cell_type": "markdown",
   "metadata": {
    "id": "Ax2H2O7IVbiy"
   },
   "source": [
    "なおDataFrameから1列もしくは1行のデータを取り出す場合のデータ型はSeries型、 複数列もしくは複数行のデータを取り出す場合のデータ型はDataFrame型となります。 また、型を取得するには、typeを用います。\n",
    "\n",
    "出力データの型や変数の型がどうなっているのかを確認する際に、頻繁に用いるので覚えてしまいましょう。\n",
    "\n",
    "上記の出力結果の型をtypeを用いて確認してみましょう。"
   ]
  },
  {
   "cell_type": "code",
   "execution_count": 68,
   "metadata": {
    "id": "WoSY9fiMVR99"
   },
   "outputs": [
    {
     "name": "stdout",
     "output_type": "stream",
     "text": [
      "<class 'pandas.core.series.Series'>\n",
      "<class 'pandas.core.frame.DataFrame'>\n"
     ]
    }
   ],
   "source": [
    "print(type(df['charges']))\n",
    "print(type(df[['charges','bmi']]))"
   ]
  },
  {
   "attachments": {},
   "cell_type": "markdown",
   "metadata": {
    "id": "nUzLQeKG95Iv"
   },
   "source": [
    "#### 2.行での取り出し方\n",
    "\n",
    "読み込んだデータから特定の行のみを位置番号を用いて取り出したい場合は.iloc[]を使用します。\n",
    "\n",
    "位置番号を0始まりで指定し、単一行の出力結果はSeries型、複数行の出力結果はDataFrame型となります。\n",
    "\n",
    "1行目のデータを取得する場合は、位置番号に0を指定することに注意しましょう。\n",
    "\n",
    "医療費のデータの先頭行(1行目)を.iloc[]を用いて抽出します。\n",
    "\n",
    "    df.iloc[0]\n",
    "\n",
    "複数行を抽出する際には取得したい行のリストを渡します。\n",
    "\n",
    "医療費のデータの1行目と4行目のデータを抽出します。\n",
    "\n",
    "    df.iloc[[0,3]]\n",
    "\n",
    ".iloc[]では、行の位置番号だけではなく、列の位置番号も指定することができます。\n",
    "\n",
    "次で医療費のデータの1行目と4行目かつ、2列目と5列目のデータを抽出します。 \n",
    "\n",
    "    df.iloc[[0,3],[1,4]]\n",
    "\n",
    "Pythonにはスライスというシーケンス（リスト、文字列、タプル、バイト列）の一部分を切り取ってコピーを返してくれる仕組みがあります。\n",
    "\n",
    "始点と終点のインデックスを:（コロン）を挟む形で指定し、\n",
    "インデックスが始点から終点までのデータを全て指定することを意味します。\n",
    "\n",
    ".iloc[]の位置番号の指定の際にもスライスを用いることができます。\n",
    "\n",
    "- dfのデータの1行目から4行目のデータをスライスを用いて抽出します。\n",
    "\n",
    "    df.iloc[0:4]    \n",
    "\n",
    "- dfのデータの2列目と5列目のデータを抽出します。 \n",
    "\n",
    "    df.iloc[:,[1,4]]\n",
    "\n",
    "\n"
   ]
  },
  {
   "attachments": {},
   "cell_type": "markdown",
   "metadata": {
    "id": "w1Ieeao8BipK"
   },
   "source": [
    "### 問題21\n",
    "\n",
    "    医療費のデータフレームdfを用いて以下の解析を行います.\n",
    "    (1)dfの\"charges\"と\"region\"の列を抽出し、df1に代入してください。\n",
    "    (2)dfの1−2行目と5行目を抽出し、df2に代入してください。\n",
    "    (3)dfの3行目のデータを抽出し、Series型としてser3に代入してください。\n"
   ]
  },
  {
   "cell_type": "code",
   "execution_count": 69,
   "metadata": {
    "id": "XB_XQMG8Enf5"
   },
   "outputs": [
    {
     "name": "stdout",
     "output_type": "stream",
     "text": [
      "Index(['age', 'sex', 'bmi', 'children', 'smoker', 'region', 'charges'], dtype='object')\n",
      "   age    bmi  children     sex smoker\n",
      "0   19  27.90         0  female    yes\n",
      "1   18  33.77         1    male     no\n",
      "   age     sex    bmi  children smoker     region    charges\n",
      "1   18    male  33.77         1     no  southeast  1725.5523\n",
      "2   28    male  33.00         3     no  southeast  4449.4620\n",
      "5   31  female  25.74         0     no  southeast  3756.6216\n",
      "age                  33\n",
      "sex                male\n",
      "bmi              22.705\n",
      "children              0\n",
      "smoker               no\n",
      "region        northwest\n",
      "charges     21984.47061\n",
      "Name: 3, dtype: object\n",
      "<class 'pandas.core.series.Series'>\n"
     ]
    }
   ],
   "source": [
    "#問題21\n",
    "# dfの列名一覧\n",
    "print(df.columns)\n",
    "# (1)dfの\"charges\"と\"region\"以外の列を抽出し、df1に代入してください。df1の先頭2行を表示してください。\n",
    "df1 = df[df.columns.difference(['charges', 'region'])]\n",
    "print(df1.head(2))\n",
    "# (2)ilocを用いてdfの1−2行目と5行目を抽出し、df2に代入してください。df2を表示してください。\n",
    "df2 = df.iloc[[1, 2, 5]]\n",
    "print(df2)\n",
    "# (3)ilocを用いてdfの3行目のデータを抽出し、Series型としてser3に代入してください。\n",
    "ser3 = df.iloc[3]\n",
    "print(ser3)\n",
    "print(type(ser3))"
   ]
  },
  {
   "attachments": {},
   "cell_type": "markdown",
   "metadata": {
    "id": "qbJHkmtcWHtr"
   },
   "source": [
    "### ヒント\n",
    "\n",
    "- DataFrameの後に列名のリストを渡すことで複数列を抽出することが可能です。\n",
    "\n",
    "- .iloc[]を用いて、1行目のデータを取得する場合は位置番号に0を指定することに注意しましょう。\n",
    "\n",
    "    df.iloc[[0,1,...,99]]\n",
    "\n",
    "- 3行目は行番号で考えると2になり、\"charges\"と\"region\"は列の位置番号で考えると6と5になることに注意しましょう。\n",
    "\n",
    "    df.iloc[2]"
   ]
  }
 ],
 "metadata": {
  "colab": {
   "provenance": []
  },
  "kernelspec": {
   "display_name": "Python 3",
   "language": "python",
   "name": "python3"
  },
  "language_info": {
   "codemirror_mode": {
    "name": "ipython",
    "version": 3
   },
   "file_extension": ".py",
   "mimetype": "text/x-python",
   "name": "python",
   "nbconvert_exporter": "python",
   "pygments_lexer": "ipython3",
   "version": "3.9.12"
  }
 },
 "nbformat": 4,
 "nbformat_minor": 1
}
