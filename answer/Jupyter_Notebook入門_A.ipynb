{
  "cells": [
    {
      "cell_type": "markdown",
      "metadata": {
        "id": "VZ2skW1XNeL_"
      },
      "source": [
        "# Jupyter Notebook入門\n",
        "\n",
        "jupyter notebookと呼ばれるwebブラウザ上で動作するpython実行環境の使い方について解説をします。\n",
        "\n",
        "\n",
        "\n"
      ]
    },
    {
      "attachments": {},
      "cell_type": "markdown",
      "metadata": {
        "id": "D_s6ht3QOrJo"
      },
      "source": [
        "### 学籍番号、氏名を入力せよ\n",
        "\n",
        "- 学籍番号：23S0001\n",
        "- 氏名:解答\n",
        "\n",
        "---"
      ]
    },
    {
      "cell_type": "markdown",
      "metadata": {
        "id": "sHNBuzPiUAYl"
      },
      "source": [
        "## セルの挿入とプログラムの実行\n",
        "\n",
        "Jupyter Notebookのセルで簡単な計算をやってみましょう。\n",
        "\n",
        "計算をする場合、「＋」を押してコードセルを追加し、コードセルの中で計算します。\n",
        "\n",
        "以下、コードセルをセルと略します。\n",
        "\n",
        "### 問題1\n",
        "\n",
        "    下のセルで\n",
        "    1+1\n",
        "    の計算を実行してみてください。"
      ]
    },
    {
      "cell_type": "code",
      "execution_count": 6,
      "metadata": {
        "id": "2udndpmOcM9R"
      },
      "outputs": [
        {
          "data": {
            "text/plain": [
              "2"
            ]
          },
          "execution_count": 6,
          "metadata": {},
          "output_type": "execute_result"
        }
      ],
      "source": [
        "#問題1\n",
        "1+1"
      ]
    },
    {
      "cell_type": "markdown",
      "metadata": {
        "id": "mt_KtXobQOZb"
      },
      "source": [
        "### 問題2\n",
        "\n",
        "    下のセルで \n",
        "    2+4,4*3,3/4 \n",
        "    と入力して実行します。"
      ]
    },
    {
      "cell_type": "code",
      "execution_count": 10,
      "metadata": {
        "id": "HFFLrPSqcQ_H"
      },
      "outputs": [
        {
          "data": {
            "text/plain": [
              "(6, 12, 0.75)"
            ]
          },
          "execution_count": 10,
          "metadata": {},
          "output_type": "execute_result"
        }
      ],
      "source": [
        "#問題2\n",
        "2+4, 4*3, 3/4"
      ]
    },
    {
      "cell_type": "markdown",
      "metadata": {
        "id": "j9dDPYpzQqbb"
      },
      "source": [
        "セルの中で\",\"で計算を区切って実行した場合、計算結果も,で区切って返ってきます。\n",
        "\n",
        "この返ってきた値は、タプル型と呼ばれる型のデータで複数の値を記憶するための配列の一種です。\n",
        "\n"
      ]
    },
    {
      "cell_type": "markdown",
      "metadata": {
        "id": "WDVPr-uJT8gO"
      },
      "source": [
        "## print関数\n",
        "\n",
        "Pythonの初めの一歩としてprint関数を覚えましょう。\n",
        "\n",
        "print関数は、プログラミング言語を学ぶときに最初に覚える関数の一つです。print関数は、何らかの決まった文章や、プログラムの結果を画面に表示する為のコードです。例えば、「Hello World!」という文章を画面に表示したい場合、以下のようにコードを書きます。\n",
        "\n",
        "\n",
        "    print(\"Hello World!\")\n",
        "\n",
        "まずprint関数は、print( )のように括弧()をつけて記述します。次に画面に出力したい文章を括弧()の中に記述します。このとき、文章などの文字列を出力する場合は、シングルクォーテーション'かダブルクォーテーション\"で囲む必要があります。\n",
        "\n",
        "実行すると、セルの下に次のように表示されます。\n",
        "\n",
        "     Hello World!\n",
        "\n",
        "それでは、実際にprint関数を使った問題にチャレンジしてみましょう。\n",
        "\n",
        "### 問題3\n",
        "\n",
        "    下のセルで\n",
        "    print関数を使って、カギ括弧内の文章「I love Python.」を\n",
        "    画面に出力しましょう。\n"
      ]
    },
    {
      "cell_type": "code",
      "execution_count": 11,
      "metadata": {
        "id": "qzAXBjyXcUjV"
      },
      "outputs": [
        {
          "name": "stdout",
          "output_type": "stream",
          "text": [
            "I love Python.\n"
          ]
        }
      ],
      "source": [
        "#問題3\n",
        "print(\"I love Python.\")"
      ]
    },
    {
      "cell_type": "markdown",
      "metadata": {
        "id": "gSKOL_PHU2NP"
      },
      "source": [
        "##### ヒント\n",
        "\n",
        "- print関数の括弧()の中に、\"I love Python.\"と入力しましょう。つまり、print(\"I love Python.\")と入力します。"
      ]
    },
    {
      "cell_type": "markdown",
      "metadata": {
        "id": "K2q6Dp65WYeH"
      },
      "source": [
        "## 四則演算1\n",
        "\n",
        "print関数に続いて、プログラムでの計算で最も基本となる四則演算について学びます。\n",
        "\n",
        "数学における足し算と引き算は、Pythonでも足し算ならば\"+\"、引き算ならば\"-\"の記号を使うことで、簡単に計算することができます。"
      ]
    },
    {
      "cell_type": "markdown",
      "metadata": {
        "id": "Jpjq50Y_WiEa"
      },
      "source": [
        "![image.png](data:image/png;base64,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)"
      ]
    },
    {
      "cell_type": "markdown",
      "metadata": {
        "id": "6xdbBuf8MliH"
      },
      "source": [
        "\n",
        "\n",
        "また計算結果は、print関数を使って画面に表示することができます。\n",
        "\n",
        "\n",
        "    print( 4 + 3 )\n",
        "を実行すると\n",
        "\n",
        "\n",
        "    7"
      ]
    },
    {
      "cell_type": "markdown",
      "metadata": {
        "id": "aO8X6e1wMtq7"
      },
      "source": [
        "    print( 9 - 5 )\n",
        "\n",
        "を実行すると\n",
        "\n",
        "\n",
        "    4\n",
        "\n",
        "次に掛け算と割り算です。掛け算はアスタリスク*、割り算はスラッシュ/の記号を使うことで、計算することができます。\n",
        "\n",
        "    print( 4 * 2 )\n",
        "\n",
        "を実行すると\n",
        "\n",
        "    8\n"
      ]
    },
    {
      "cell_type": "markdown",
      "metadata": {
        "id": "l4tAOgL3VMI9"
      },
      "source": [
        "    print( 5 / 2 )\n",
        "\n",
        "\n",
        "を実行すると\n",
        "\n",
        "    2.5\n",
        "\n",
        "\n",
        "\n",
        "5を2で割ったときの商とあまりは２と１です。\n",
        "\n",
        "\n",
        "\n",
        "    print(5//2)\n",
        "\n",
        "を実行すると商の2,\n",
        "\n",
        "    2\n",
        "\n",
        "    print(5%2)\n",
        "\n",
        "を実行するとあまりの1\n",
        "\n",
        "    1\n",
        "\n",
        "を出力します。\n",
        "\n",
        "\n",
        "\n",
        "\n",
        "さらに累乗計算も、Pythonでは簡単に記述をすることができます。具体的には、累乗の計算はアスタリスク2つ**で表します。\n",
        "\n",
        "    print( 3 ** 3 )\n",
        "\n",
        "\n",
        "を実行すると\n",
        "\n",
        "    27\n",
        "\n",
        "\n",
        "\n"
      ]
    },
    {
      "cell_type": "markdown",
      "metadata": {
        "id": "B9z-I6NHO7k5"
      },
      "source": [
        "\n",
        "### 問題4 \n",
        "\n",
        "    Pythonで四則演算にチャレンジしてみましょう。\n",
        "    (1)15 と 32 の足し算の計算結果を、print関数を使って画面に表示しましょう。\n",
        "    (2)78 と 49 の引き算の計算結果を、print関数を使って画面に表示しましょう。\n",
        "    (3)1.7 と 6.3 の掛け算の計算結果を、print関数を使って画面に表示しましょう。\n",
        "    (4)48.4 と 16 の割り算の計算結果を、print関数を使って画面に表示しましょう。\n",
        "    (5)131を11で割ったときの商とあまりをprint関数を使って画面に表示しましょう。\n",
        "    (6)2の16乗の計算結果を、print関数を使って画面に表示しましょう。\n",
        "\n"
      ]
    },
    {
      "cell_type": "code",
      "execution_count": 12,
      "metadata": {
        "id": "CYosHpV4rZld"
      },
      "outputs": [
        {
          "name": "stdout",
          "output_type": "stream",
          "text": [
            "47\n",
            "29\n",
            "10.709999999999999\n",
            "3.025\n",
            "11\n",
            "65536\n"
          ]
        }
      ],
      "source": [
        "#問題4\n",
        "#(1)15 と 32 の足し算の計算結果を、print関数を使って画面に表示しましょう。\n",
        "print(15+32)\n",
        "#(2)78 と 49 の引き算の計算結果を、print関数を使って画面に表示しましょう。\n",
        "print(78-49)\n",
        "#(3))1.7 と 6.3 の掛け算の計算結果を、print関数を使って画面に表示しましょう。\n",
        "print(1.7*6.3)\n",
        "#(4)48.4 と 16 の割り算の計算結果を、print関数を使って画面に表示しましょう。\n",
        "print(48.4/16)\n",
        "#(5)131を11で割ったときの商とあまりをprint関数を使って画面に表示しましょう。\n",
        "print(131//11)\n",
        "#(6)2の16乗の計算結果を、print関数を使って画面に表示しましょう。\n",
        "print(2**16)"
      ]
    },
    {
      "cell_type": "markdown",
      "metadata": {
        "id": "8V6G-PZiWCXn"
      },
      "source": [
        "##### ヒント\n",
        "\n",
        "- 足し算ならば\"+\"、引き算ならば\"-\"、掛け算はアスタリスク\"*\"、割り算はスラッシュ\"/\"、商は\"//\"、あまりは\"%\"､累乗の計算はアスタリスク2つ\"**\"を使います。\n",
        "\n",
        "- 例えば1+1の計算であれば、print( 1+1 )と記述します。\n",
        "\n",
        "- 2+3,2-3の計算結果を並べて出力するにはprint(2+3,2-3)と記述します。"
      ]
    },
    {
      "cell_type": "markdown",
      "metadata": {
        "id": "6TOk8FMdWR7t"
      },
      "source": [
        "## 四則演算2\n",
        "\n",
        "基本的な四則演算を学びましたので、次はそれらを組み合わせた計算問題にチャレンジしましょう。\n",
        "\n",
        "### 問題5\n",
        "\n",
        "    Pythonで次の計算を行い、print関数で画面に表示しましょう。\n",
        "    (1)  3×3+6÷2\n",
        "    (2)  (8+1)3−7\n",
        "    (3)  −73×(−11)\n"
      ]
    },
    {
      "cell_type": "code",
      "execution_count": 14,
      "metadata": {
        "id": "AV-qpWebrr29"
      },
      "outputs": [
        {
          "name": "stdout",
          "output_type": "stream",
          "text": [
            "12.0\n",
            "20\n",
            "803\n"
          ]
        }
      ],
      "source": [
        "#問題5\n",
        "#(1)3×3+6÷2\n",
        "print(3*3+6/2)\n",
        "#(2)(8+1)3−7\n",
        "print((8+1)*3-7)\n",
        "#(3)−73×(−11)\n",
        "print(-73*(-11))"
      ]
    },
    {
      "cell_type": "markdown",
      "metadata": {
        "id": "GXDYztflXTkd"
      },
      "source": [
        "## 四則演算3\n",
        "\n",
        "複素数の計算もできます。ただし、虚数単位はiではなくjで、1jと書きます。また、$a+bi$はa+bjと書きます。\n",
        "\n",
        "\n",
        "### 問題6\n",
        "\n",
        "    複素数の計算問題にチャレンジしましょう。\n",
        "    Pythonで次の計算を行い、print関数で画面に表示しましょう。\n",
        "    (1)  2+3i+4+5i\n",
        "    (2)  (1+i)(2+i)\n",
        "    (3)  i*i*i*i\n"
      ]
    },
    {
      "cell_type": "code",
      "execution_count": 15,
      "metadata": {
        "id": "CVi589Sjrvf_"
      },
      "outputs": [
        {
          "name": "stdout",
          "output_type": "stream",
          "text": [
            "(6+8j)\n",
            "(1+3j)\n",
            "(1+0j)\n"
          ]
        }
      ],
      "source": [
        "#問題6\n",
        "#(1)2+3i+4+5i\n",
        "print(2+3j+4+5j)\n",
        "#(2)(1+i)(2+i)\n",
        "print((1+1j)*(2+1j))\n",
        "#(3)i*i*i*i\n",
        "print(1j**4)"
      ]
    },
    {
      "cell_type": "markdown",
      "metadata": {
        "id": "lwKCC3P5W6xu"
      },
      "source": [
        "## コメントアウト\n",
        "\n",
        "プログラムを書いていると、処理の内容やコードの書き方について、メモ書きを残したいことがあります。\n",
        "そのような場合、#を使うことで、その行について#以降の記述を（コードではない）ただのメモ書きとして扱うことができます。\n",
        "これをコメントアウトと呼びます。\n",
        "\n",
        "この例では、コードについてのメモ書きとしてコメントアウトを活用しています。\n",
        "\n",
        "       # 足し算をして、画面に表示させる\n",
        "       print( 1 + 1 )\n",
        "\n",
        "またこの例の1行目では、試行錯誤の過程で書くなどしたコードを消さずに、コメントアウトで無効化して残しています。このような使い方をすることもできます。\n",
        "\n",
        "       # print( 1 - 1 )\n",
        "       print( 1 + 1 )\n",
        "\n",
        "複雑なプログラムになると、コメントアウトでメモを書いておくことで、可読性の高いプログラムにすることができます。"
      ]
    }
  ],
  "metadata": {
    "colab": {
      "provenance": []
    },
    "kernelspec": {
      "display_name": "Python 3",
      "name": "python3"
    },
    "language_info": {
      "codemirror_mode": {
        "name": "ipython",
        "version": 3
      },
      "file_extension": ".py",
      "mimetype": "text/x-python",
      "name": "python",
      "nbconvert_exporter": "python",
      "pygments_lexer": "ipython3",
      "version": "3.9.16"
    }
  },
  "nbformat": 4,
  "nbformat_minor": 0
}
